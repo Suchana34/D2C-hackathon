{
  "nbformat": 4,
  "nbformat_minor": 0,
  "metadata": {
    "colab": {
      "name": "D2C Revenue Predictions without scalar on profit",
      "provenance": [],
      "collapsed_sections": [
        "Nrg7U8Uk1W7O"
      ]
    },
    "kernelspec": {
      "name": "python3",
      "display_name": "Python 3"
    }
  },
  "cells": [
    {
      "cell_type": "markdown",
      "metadata": {
        "id": "QxZB0-5scIxk"
      },
      "source": [
        "Hey babe, let's try to complete this work together. :) \n",
        "\n",
        "I honestly wanted to be a lot active in this project but sadly my exams are just killing me :("
      ]
    },
    {
      "cell_type": "code",
      "metadata": {
        "id": "QMZqcT05iVxI"
      },
      "source": [
        "# predict profit on each product of the 3 companies\n",
        "\n",
        "# predict which products are going to make loss for the next year\n"
      ],
      "execution_count": null,
      "outputs": []
    },
    {
      "cell_type": "code",
      "metadata": {
        "id": "ZxnuoEe3RYJA"
      },
      "source": [
        "# no of products with loss = 20016\n",
        "\n",
        "# no of products with profit = 86448\n",
        "\n",
        "# no of products with no profit and no loss = 736\n"
      ],
      "execution_count": null,
      "outputs": []
    },
    {
      "cell_type": "code",
      "metadata": {
        "colab": {
          "base_uri": "https://localhost:8080/"
        },
        "id": "mDY3uxDkWeO0",
        "outputId": "a53a849b-f9bf-46a5-8310-32620a199e7a"
      },
      "source": [
        "from google.colab import drive\n",
        "drive.mount('/content/drive')"
      ],
      "execution_count": 1,
      "outputs": [
        {
          "output_type": "stream",
          "text": [
            "Mounted at /content/drive\n"
          ],
          "name": "stdout"
        }
      ]
    },
    {
      "cell_type": "code",
      "metadata": {
        "id": "kNsQBGUTRYGI"
      },
      "source": [
        "import pandas as pd\n",
        "import numpy as np\n",
        "import matplotlib.pyplot as plt\n",
        "%matplotlib inline\n",
        "import seaborn as sns"
      ],
      "execution_count": 2,
      "outputs": []
    },
    {
      "cell_type": "code",
      "metadata": {
        "id": "2mBzi9vuRYE9",
        "colab": {
          "base_uri": "https://localhost:8080/",
          "height": 225
        },
        "outputId": "7a28b143-6d3c-4971-e531-216bc756a300"
      },
      "source": [
        "# sorry babe in my directory name, everything is same except it is \"Colab Notebooks\" (no underscore), so we need to change to run \n",
        "\n",
        "dataset=pd.read_csv(\"/content/drive/My Drive/Colab Notebooks/Projects/D2C/train.csv\", parse_dates=['delivery date', 'placement date'])\n",
        "testset=pd.read_csv(\"/content/drive/MyDrive/Colab Notebooks/Projects/D2C/test.csv\", parse_dates=['delivery date', 'placement date'])\n",
        "pd.set_option('display.max_columns', None)\n",
        "#babe you can use you own loading process to load the dataset.\n",
        "#we can also not parse the dates and treat them as normal columns\n",
        "dataset.head(6)"
      ],
      "execution_count": 3,
      "outputs": [
        {
          "output_type": "execute_result",
          "data": {
            "text/html": [
              "<div>\n",
              "<style scoped>\n",
              "    .dataframe tbody tr th:only-of-type {\n",
              "        vertical-align: middle;\n",
              "    }\n",
              "\n",
              "    .dataframe tbody tr th {\n",
              "        vertical-align: top;\n",
              "    }\n",
              "\n",
              "    .dataframe thead th {\n",
              "        text-align: right;\n",
              "    }\n",
              "</style>\n",
              "<table border=\"1\" class=\"dataframe\">\n",
              "  <thead>\n",
              "    <tr style=\"text-align: right;\">\n",
              "      <th></th>\n",
              "      <th>id</th>\n",
              "      <th>departure city</th>\n",
              "      <th>discount</th>\n",
              "      <th>price</th>\n",
              "      <th>no of items</th>\n",
              "      <th>location</th>\n",
              "      <th>class</th>\n",
              "      <th>segment</th>\n",
              "      <th>sub-class</th>\n",
              "      <th>delivery type</th>\n",
              "      <th>RID</th>\n",
              "      <th>profit</th>\n",
              "      <th>delivery date</th>\n",
              "      <th>address code</th>\n",
              "      <th>departure state</th>\n",
              "      <th>placement date</th>\n",
              "    </tr>\n",
              "  </thead>\n",
              "  <tbody>\n",
              "    <tr>\n",
              "      <th>0</th>\n",
              "      <td>1</td>\n",
              "      <td>Houston</td>\n",
              "      <td>0.2</td>\n",
              "      <td>16.448</td>\n",
              "      <td>2</td>\n",
              "      <td>Central</td>\n",
              "      <td>kariox</td>\n",
              "      <td>Consumer</td>\n",
              "      <td>phone</td>\n",
              "      <td>Standard Class</td>\n",
              "      <td>7981</td>\n",
              "      <td>5.5512</td>\n",
              "      <td>2018-01-01</td>\n",
              "      <td>77095</td>\n",
              "      <td>Texas</td>\n",
              "      <td>2018-01-01</td>\n",
              "    </tr>\n",
              "    <tr>\n",
              "      <th>1</th>\n",
              "      <td>2</td>\n",
              "      <td>Westland</td>\n",
              "      <td>0.0</td>\n",
              "      <td>29.700</td>\n",
              "      <td>5</td>\n",
              "      <td>Central</td>\n",
              "      <td>kariox</td>\n",
              "      <td>Consumer</td>\n",
              "      <td>headset</td>\n",
              "      <td>Standard Class</td>\n",
              "      <td>6334</td>\n",
              "      <td>13.3650</td>\n",
              "      <td>2018-01-01</td>\n",
              "      <td>48185</td>\n",
              "      <td>Michigan</td>\n",
              "      <td>2018-01-01</td>\n",
              "    </tr>\n",
              "    <tr>\n",
              "      <th>2</th>\n",
              "      <td>3</td>\n",
              "      <td>Westland</td>\n",
              "      <td>0.0</td>\n",
              "      <td>14.730</td>\n",
              "      <td>3</td>\n",
              "      <td>Central</td>\n",
              "      <td>qexty</td>\n",
              "      <td>Consumer</td>\n",
              "      <td>shorts</td>\n",
              "      <td>Standard Class</td>\n",
              "      <td>6333</td>\n",
              "      <td>4.8609</td>\n",
              "      <td>2018-01-01</td>\n",
              "      <td>48185</td>\n",
              "      <td>Michigan</td>\n",
              "      <td>2018-01-01</td>\n",
              "    </tr>\n",
              "    <tr>\n",
              "      <th>3</th>\n",
              "      <td>4</td>\n",
              "      <td>Westland</td>\n",
              "      <td>0.0</td>\n",
              "      <td>43.920</td>\n",
              "      <td>3</td>\n",
              "      <td>Central</td>\n",
              "      <td>kariox</td>\n",
              "      <td>Consumer</td>\n",
              "      <td>television</td>\n",
              "      <td>Standard Class</td>\n",
              "      <td>6332</td>\n",
              "      <td>12.7368</td>\n",
              "      <td>2018-01-01</td>\n",
              "      <td>48185</td>\n",
              "      <td>Michigan</td>\n",
              "      <td>2018-01-01</td>\n",
              "    </tr>\n",
              "    <tr>\n",
              "      <th>4</th>\n",
              "      <td>5</td>\n",
              "      <td>Westland</td>\n",
              "      <td>0.0</td>\n",
              "      <td>66.580</td>\n",
              "      <td>2</td>\n",
              "      <td>Central</td>\n",
              "      <td>kariox</td>\n",
              "      <td>Consumer</td>\n",
              "      <td>laptop</td>\n",
              "      <td>Standard Class</td>\n",
              "      <td>6331</td>\n",
              "      <td>15.9792</td>\n",
              "      <td>2018-01-01</td>\n",
              "      <td>48185</td>\n",
              "      <td>Michigan</td>\n",
              "      <td>2018-01-01</td>\n",
              "    </tr>\n",
              "    <tr>\n",
              "      <th>5</th>\n",
              "      <td>6</td>\n",
              "      <td>Westland</td>\n",
              "      <td>0.1</td>\n",
              "      <td>247.716</td>\n",
              "      <td>4</td>\n",
              "      <td>Central</td>\n",
              "      <td>kariox</td>\n",
              "      <td>Consumer</td>\n",
              "      <td>battery</td>\n",
              "      <td>Standard Class</td>\n",
              "      <td>6330</td>\n",
              "      <td>93.5816</td>\n",
              "      <td>2018-01-01</td>\n",
              "      <td>48185</td>\n",
              "      <td>Michigan</td>\n",
              "      <td>2018-01-01</td>\n",
              "    </tr>\n",
              "  </tbody>\n",
              "</table>\n",
              "</div>"
            ],
            "text/plain": [
              "   id departure city  discount    price  no of items location   class  \\\n",
              "0   1        Houston       0.2   16.448            2  Central  kariox   \n",
              "1   2       Westland       0.0   29.700            5  Central  kariox   \n",
              "2   3       Westland       0.0   14.730            3  Central   qexty   \n",
              "3   4       Westland       0.0   43.920            3  Central  kariox   \n",
              "4   5       Westland       0.0   66.580            2  Central  kariox   \n",
              "5   6       Westland       0.1  247.716            4  Central  kariox   \n",
              "\n",
              "    segment   sub-class   delivery type   RID   profit delivery date  \\\n",
              "0  Consumer       phone  Standard Class  7981   5.5512    2018-01-01   \n",
              "1  Consumer     headset  Standard Class  6334  13.3650    2018-01-01   \n",
              "2  Consumer      shorts  Standard Class  6333   4.8609    2018-01-01   \n",
              "3  Consumer  television  Standard Class  6332  12.7368    2018-01-01   \n",
              "4  Consumer      laptop  Standard Class  6331  15.9792    2018-01-01   \n",
              "5  Consumer     battery  Standard Class  6330  93.5816    2018-01-01   \n",
              "\n",
              "   address code departure state placement date  \n",
              "0         77095           Texas     2018-01-01  \n",
              "1         48185        Michigan     2018-01-01  \n",
              "2         48185        Michigan     2018-01-01  \n",
              "3         48185        Michigan     2018-01-01  \n",
              "4         48185        Michigan     2018-01-01  \n",
              "5         48185        Michigan     2018-01-01  "
            ]
          },
          "metadata": {
            "tags": []
          },
          "execution_count": 3
        }
      ]
    },
    {
      "cell_type": "code",
      "metadata": {
        "id": "ICcv6q1bRXg-",
        "colab": {
          "base_uri": "https://localhost:8080/"
        },
        "outputId": "68f2d9f5-bf1d-4619-e43d-29535e60735d"
      },
      "source": [
        "dataset.info() # info about dataset, contains only 1 null values at delivery type :)\n",
        "dataset['delivery type']=dataset['delivery type'].fillna(value=dataset['delivery type'].mode()[0])"
      ],
      "execution_count": 4,
      "outputs": [
        {
          "output_type": "stream",
          "text": [
            "<class 'pandas.core.frame.DataFrame'>\n",
            "RangeIndex: 6700 entries, 0 to 6699\n",
            "Data columns (total 16 columns):\n",
            " #   Column           Non-Null Count  Dtype         \n",
            "---  ------           --------------  -----         \n",
            " 0   id               6700 non-null   int64         \n",
            " 1   departure city   6700 non-null   object        \n",
            " 2   discount         6700 non-null   float64       \n",
            " 3   price            6700 non-null   float64       \n",
            " 4   no of items      6700 non-null   int64         \n",
            " 5   location         6700 non-null   object        \n",
            " 6   class            6700 non-null   object        \n",
            " 7   segment          6700 non-null   object        \n",
            " 8   sub-class        6700 non-null   object        \n",
            " 9   delivery type    6699 non-null   object        \n",
            " 10  RID              6700 non-null   int64         \n",
            " 11  profit           6700 non-null   float64       \n",
            " 12  delivery date    6700 non-null   datetime64[ns]\n",
            " 13  address code     6700 non-null   int64         \n",
            " 14  departure state  6700 non-null   object        \n",
            " 15  placement date   6700 non-null   datetime64[ns]\n",
            "dtypes: datetime64[ns](2), float64(3), int64(4), object(7)\n",
            "memory usage: 837.6+ KB\n"
          ],
          "name": "stdout"
        }
      ]
    },
    {
      "cell_type": "code",
      "metadata": {
        "id": "QXqFgHRgt5lX",
        "colab": {
          "base_uri": "https://localhost:8080/"
        },
        "outputId": "3b5339a6-1dc0-4786-8eef-410ceb0d5213"
      },
      "source": [
        "testset.info() #no null values"
      ],
      "execution_count": null,
      "outputs": [
        {
          "output_type": "stream",
          "text": [
            "<class 'pandas.core.frame.DataFrame'>\n",
            "RangeIndex: 3294 entries, 0 to 3293\n",
            "Data columns (total 15 columns):\n",
            " #   Column           Non-Null Count  Dtype         \n",
            "---  ------           --------------  -----         \n",
            " 0   id               3294 non-null   int64         \n",
            " 1   departure city   3294 non-null   object        \n",
            " 2   discount         3294 non-null   float64       \n",
            " 3   price            3294 non-null   float64       \n",
            " 4   no of items      3294 non-null   int64         \n",
            " 5   location         3294 non-null   object        \n",
            " 6   class            3294 non-null   object        \n",
            " 7   segment          3294 non-null   object        \n",
            " 8   sub-class        3294 non-null   object        \n",
            " 9   delivery type    3294 non-null   object        \n",
            " 10  RID              3294 non-null   int64         \n",
            " 11  delivery date    3294 non-null   datetime64[ns]\n",
            " 12  address code     3294 non-null   int64         \n",
            " 13  departure state  3294 non-null   object        \n",
            " 14  placement date   3294 non-null   datetime64[ns]\n",
            "dtypes: datetime64[ns](2), float64(2), int64(4), object(7)\n",
            "memory usage: 386.1+ KB\n"
          ],
          "name": "stdout"
        }
      ]
    },
    {
      "cell_type": "code",
      "metadata": {
        "id": "xRhzN_zuY2OW",
        "colab": {
          "base_uri": "https://localhost:8080/"
        },
        "outputId": "5cd48869-0ff5-411a-ea7c-8a4d47d61fc7"
      },
      "source": [
        "Y=dataset['profit']\n",
        "# dataset without profit col is given a separate name\n",
        "X=dataset.drop(['profit', 'address code', 'RID', 'id'], axis=1)\n",
        "csv_file_ids=testset['id']\n",
        "X_test=testset.drop(['address code', 'RID', 'id'], axis=1)\n",
        "print(X_test.shape, X.shape)"
      ],
      "execution_count": 5,
      "outputs": [
        {
          "output_type": "stream",
          "text": [
            "(3294, 12) (6700, 12)\n"
          ],
          "name": "stdout"
        }
      ]
    },
    {
      "cell_type": "code",
      "metadata": {
        "colab": {
          "base_uri": "https://localhost:8080/"
        },
        "id": "2yl0iA5qZY-5",
        "outputId": "e7cbea41-aa59-47de-d031-bff700c6232b"
      },
      "source": [
        "from sklearn.model_selection import train_test_split\n",
        "x_train, x_test, y_train, y_test=train_test_split(X, Y, test_size=0.2, random_state=45) #do not change the random state.\n",
        "\n",
        "x_train, x_test=x_train.reset_index(drop=True), x_test.reset_index(drop=True)\n",
        "print(\"train shape, test shape=\", x_train.shape, x_test.shape)"
      ],
      "execution_count": 6,
      "outputs": [
        {
          "output_type": "stream",
          "text": [
            "train shape, test shape= (5360, 12) (1340, 12)\n"
          ],
          "name": "stdout"
        }
      ]
    },
    {
      "cell_type": "code",
      "metadata": {
        "id": "AlJ_QODE7fWc",
        "colab": {
          "base_uri": "https://localhost:8080/"
        },
        "outputId": "18ed5359-8abb-498b-ffe2-83fad5c63382"
      },
      "source": [
        "print(X.nunique(),\"\\n\\n\", X_test.nunique())"
      ],
      "execution_count": null,
      "outputs": [
        {
          "output_type": "stream",
          "text": [
            "departure city      469\n",
            "discount             12\n",
            "price              4437\n",
            "no of items          14\n",
            "location              4\n",
            "class                 3\n",
            "segment               3\n",
            "sub-class            17\n",
            "delivery type         4\n",
            "delivery date        37\n",
            "departure state      47\n",
            "placement date       37\n",
            "dtype: int64 \n",
            "\n",
            " departure city      350\n",
            "discount             12\n",
            "price              2543\n",
            "no of items          14\n",
            "location              4\n",
            "class                 3\n",
            "segment               3\n",
            "sub-class            17\n",
            "delivery type         4\n",
            "delivery date        13\n",
            "departure state      47\n",
            "placement date       12\n",
            "dtype: int64\n"
          ],
          "name": "stdout"
        }
      ]
    },
    {
      "cell_type": "markdown",
      "metadata": {
        "id": "Nrg7U8Uk1W7O"
      },
      "source": [
        "# Visualization"
      ]
    },
    {
      "cell_type": "code",
      "metadata": {
        "id": "EcYWIVDR7teH"
      },
      "source": [
        "# these are some sample eda that we can perform and may also help us :))\n",
        "\n",
        "# no of items delivered on each date (line graph)\n",
        "# profit on each date (line graph)\n",
        "# loss on each date (line graph)\n",
        "# no of items delivered on monthly basis (line graph)\n",
        "# profit on monthly basis (line graph)\n",
        "# loss on monthly basis (line graph)\n",
        "\n",
        "# subclass(the element) delivered monthly (bar chart)\n",
        "# class (which company) delivered monthly (bar chart)\n",
        "\n",
        "#monthly profit by each class (line graph)\n",
        "#monthly loss by each class (line graph)\n",
        "\n",
        "#count of subclass for each class (bar chart for each class)\n",
        "\n",
        "#variation of profits based on product prices (box plots or line graphs)\n",
        "# variation of profits based on product discounts (box plots)\n",
        "\n",
        "#variation of profits with delivery dates"
      ],
      "execution_count": null,
      "outputs": []
    },
    {
      "cell_type": "code",
      "metadata": {
        "id": "DLMKyCgV7tbP",
        "colab": {
          "base_uri": "https://localhost:8080/",
          "height": 738
        },
        "outputId": "8543acfe-063f-48ae-f414-de949d4213cd"
      },
      "source": [
        "#No. of items in each category\n",
        "count_df = pd.DataFrame(dataset['sub-class'].value_counts()).reset_index()\n",
        "print('There are', len(count_df), 'items')\n",
        "\n",
        "sns.set_style('darkgrid')\n",
        "plt.figure(figsize=(10, 12))\n",
        "sns.barplot(data=count_df, y='index', x='sub-class', palette='Dark2')\n",
        "plt.title('No. of items in each category', loc='left', fontsize=20)\n",
        "plt.xlabel(\"\")\n",
        "plt.ylabel(\"\")\n",
        "plt.show()"
      ],
      "execution_count": null,
      "outputs": [
        {
          "output_type": "stream",
          "text": [
            "There are 17 items\n"
          ],
          "name": "stdout"
        },
        {
          "output_type": "display_data",
          "data": {
            "image/png": "[encoded data removed]",
            "text/plain": [
              "<Figure size 720x864 with 1 Axes>"
            ]
          },
          "metadata": {
            "tags": []
          }
        }
      ]
    },
    {
      "cell_type": "code",
      "metadata": {
        "id": "3tlQ7tNxs0gv",
        "colab": {
          "base_uri": "https://localhost:8080/",
          "height": 550
        },
        "outputId": "6088be05-dcab-4441-b123-a3af6231d068"
      },
      "source": [
        "count_df"
      ],
      "execution_count": null,
      "outputs": [
        {
          "output_type": "execute_result",
          "data": {
            "text/html": [
              "<div>\n",
              "<style scoped>\n",
              "    .dataframe tbody tr th:only-of-type {\n",
              "        vertical-align: middle;\n",
              "    }\n",
              "\n",
              "    .dataframe tbody tr th {\n",
              "        vertical-align: top;\n",
              "    }\n",
              "\n",
              "    .dataframe thead th {\n",
              "        text-align: right;\n",
              "    }\n",
              "</style>\n",
              "<table border=\"1\" class=\"dataframe\">\n",
              "  <thead>\n",
              "    <tr style=\"text-align: right;\">\n",
              "      <th></th>\n",
              "      <th>index</th>\n",
              "      <th>sub-class</th>\n",
              "    </tr>\n",
              "  </thead>\n",
              "  <tbody>\n",
              "    <tr>\n",
              "      <th>0</th>\n",
              "      <td>headset</td>\n",
              "      <td>1025</td>\n",
              "    </tr>\n",
              "    <tr>\n",
              "      <th>1</th>\n",
              "      <td>phone</td>\n",
              "      <td>913</td>\n",
              "    </tr>\n",
              "    <tr>\n",
              "      <th>2</th>\n",
              "      <td>shorts</td>\n",
              "      <td>641</td>\n",
              "    </tr>\n",
              "    <tr>\n",
              "      <th>3</th>\n",
              "      <td>colddrinks</td>\n",
              "      <td>597</td>\n",
              "    </tr>\n",
              "    <tr>\n",
              "      <th>4</th>\n",
              "      <td>laptop</td>\n",
              "      <td>559</td>\n",
              "    </tr>\n",
              "    <tr>\n",
              "      <th>5</th>\n",
              "      <td>television</td>\n",
              "      <td>513</td>\n",
              "    </tr>\n",
              "    <tr>\n",
              "      <th>6</th>\n",
              "      <td>chocolates</td>\n",
              "      <td>502</td>\n",
              "    </tr>\n",
              "    <tr>\n",
              "      <th>7</th>\n",
              "      <td>tshirts</td>\n",
              "      <td>428</td>\n",
              "    </tr>\n",
              "    <tr>\n",
              "      <th>8</th>\n",
              "      <td>battery</td>\n",
              "      <td>303</td>\n",
              "    </tr>\n",
              "    <tr>\n",
              "      <th>9</th>\n",
              "      <td>tablet</td>\n",
              "      <td>250</td>\n",
              "    </tr>\n",
              "    <tr>\n",
              "      <th>10</th>\n",
              "      <td>hoodies</td>\n",
              "      <td>216</td>\n",
              "    </tr>\n",
              "    <tr>\n",
              "      <th>11</th>\n",
              "      <td>watch</td>\n",
              "      <td>185</td>\n",
              "    </tr>\n",
              "    <tr>\n",
              "      <th>12</th>\n",
              "      <td>lighting</td>\n",
              "      <td>155</td>\n",
              "    </tr>\n",
              "    <tr>\n",
              "      <th>13</th>\n",
              "      <td>pants</td>\n",
              "      <td>152</td>\n",
              "    </tr>\n",
              "    <tr>\n",
              "      <th>14</th>\n",
              "      <td>charger</td>\n",
              "      <td>131</td>\n",
              "    </tr>\n",
              "    <tr>\n",
              "      <th>15</th>\n",
              "      <td>sweets</td>\n",
              "      <td>83</td>\n",
              "    </tr>\n",
              "    <tr>\n",
              "      <th>16</th>\n",
              "      <td>fastfood</td>\n",
              "      <td>47</td>\n",
              "    </tr>\n",
              "  </tbody>\n",
              "</table>\n",
              "</div>"
            ],
            "text/plain": [
              "         index  sub-class\n",
              "0      headset       1025\n",
              "1        phone        913\n",
              "2       shorts        641\n",
              "3   colddrinks        597\n",
              "4       laptop        559\n",
              "5   television        513\n",
              "6   chocolates        502\n",
              "7      tshirts        428\n",
              "8      battery        303\n",
              "9       tablet        250\n",
              "10     hoodies        216\n",
              "11       watch        185\n",
              "12    lighting        155\n",
              "13       pants        152\n",
              "14     charger        131\n",
              "15      sweets         83\n",
              "16    fastfood         47"
            ]
          },
          "metadata": {
            "tags": []
          },
          "execution_count": 10
        }
      ]
    },
    {
      "cell_type": "markdown",
      "metadata": {
        "id": "ZH9L2ytz-ArJ"
      },
      "source": [
        "mean profit VS delivery date (*whole dataset*)"
      ]
    },
    {
      "cell_type": "code",
      "metadata": {
        "id": "vvVqek05_7kf",
        "colab": {
          "base_uri": "https://localhost:8080/",
          "height": 445
        },
        "outputId": "eea93ec5-0c2b-421d-e50f-57416d1f7410"
      },
      "source": [
        "# mean profit vs delivery date\n",
        "\n",
        "plt.figure(figsize=(23,5))\n",
        "delivery_date_profit_mean=dataset.groupby('delivery date')['profit'].mean()\n",
        "sns.pointplot(x=delivery_date_profit_mean.index,y=delivery_date_profit_mean.values)\n",
        "plt.title('Mean Profit Vs Delivery Date(whole data)')\n",
        "plt.xticks(rotation = 90)\n",
        "plt.show()\n",
        "#no periodic trend found, not a time series"
      ],
      "execution_count": null,
      "outputs": [
        {
          "output_type": "display_data",
          "data": {
            "image/png": "[encoded data removed]",
            "text/plain": [
              "<Figure size 1656x360 with 1 Axes>"
            ]
          },
          "metadata": {
            "tags": []
          }
        }
      ]
    },
    {
      "cell_type": "markdown",
      "metadata": {
        "id": "QLErT8Ai-WBu"
      },
      "source": [
        "mean profit VS placement date (*whole dataset*)"
      ]
    },
    {
      "cell_type": "code",
      "metadata": {
        "id": "6rT1TkKn-g35",
        "colab": {
          "base_uri": "https://localhost:8080/",
          "height": 445
        },
        "outputId": "87ea1e59-5e8e-4795-cb04-8efdbc3dfd4c"
      },
      "source": [
        "plt.figure(figsize=(23,5))\n",
        "placement_date_profit_mean=dataset.groupby('placement date')['profit'].mean()\n",
        "sns.pointplot(x=placement_date_profit_mean.index,y=placement_date_profit_mean.values, color=\"red\")\n",
        "plt.title('Mean Profit Vs placement Date(whole data)')\n",
        "plt.xticks(rotation = 90)\n",
        "plt.show()\n",
        "#no periodic trend found, not a time series. Not found in whole dataset, so conclusion stands can not be present in trainset"
      ],
      "execution_count": null,
      "outputs": [
        {
          "output_type": "display_data",
          "data": {
            "image/png": "[encoded data removed]",
            "text/plain": [
              "<Figure size 1656x360 with 1 Axes>"
            ]
          },
          "metadata": {
            "tags": []
          }
        }
      ]
    },
    {
      "cell_type": "code",
      "metadata": {
        "id": "hCH7Rxr9BQOm"
      },
      "source": [
        "# mean of no of items bought on each delivery date\n",
        "\n",
        "plt.figure(figsize=(23,5))\n",
        "delivery_date_items_mean=dataset.groupby('delivery date')['no of items'].mean()\n",
        "sns.pointplot(x=delivery_date_items_mean.index,y=delivery_date_items_mean.values)\n",
        "plt.title('Mean of no of Items Vs Delivery Date')\n",
        "plt.xticks(rotation = 90)\n",
        "plt.show()"
      ],
      "execution_count": null,
      "outputs": []
    },
    {
      "cell_type": "code",
      "metadata": {
        "id": "hEqoY9g0EGhb"
      },
      "source": [
        "# mean profit by each class(sub company)\n",
        "\n",
        "\n",
        "plt.figure(figsize=(23,5))\n",
        "company_profit_mean=dataset.groupby('class')['profit'].mean()\n",
        "sns.pointplot(x=company_profit_mean.index,y=company_profit_mean.values)\n",
        "plt.title('Mean Profit Vs Company')\n",
        "plt.xticks(rotation = 0)\n",
        "plt.show()"
      ],
      "execution_count": null,
      "outputs": []
    },
    {
      "cell_type": "code",
      "metadata": {
        "id": "pXDZyUEFHXs_"
      },
      "source": [
        "# trying a boxplot for company vs profit (not mean profit) \n",
        "plt.figure(figsize=(15,10))\n",
        "sns.boxplot(x=dataset['class'], y=dataset['profit'])"
      ],
      "execution_count": null,
      "outputs": []
    },
    {
      "cell_type": "code",
      "metadata": {
        "id": "4F7pOSAvKs5V"
      },
      "source": [
        "# boxplot for item vs profit (not mean profit) \n",
        "plt.figure(figsize=(15,10))\n",
        "sns.boxplot(x=dataset['sub-class'], y=dataset['profit'])"
      ],
      "execution_count": null,
      "outputs": []
    },
    {
      "cell_type": "code",
      "metadata": {
        "id": "g7h4nAl9NnoN",
        "colab": {
          "base_uri": "https://localhost:8080/",
          "height": 694
        },
        "outputId": "3a5da5f3-1787-4d6d-d3ee-1839436d642e"
      },
      "source": [
        "dmp=dataset.groupby('delivery type')['profit'].mean()\n",
        "company_profit_mean=dataset.groupby('class')['profit'].mean()\n",
        "\n",
        "\n",
        "fig, axes = plt.subplots(nrows=2 ,ncols= 4,  figsize=(24, 10))\n",
        "fig.suptitle('most in one')\n",
        "#0\n",
        "sns.barplot(ax=axes[0, 0], x=dmp.index, y=dmp.values)\n",
        "axes[0, 0].set_title(\"delivery type VS mean profit\")\n",
        "\n",
        "#1\n",
        "sns.lineplot(ax=axes[0, 1], x= dataset.groupby(dataset.discount).mean().index, \n",
        "             y = dataset.groupby(dataset.discount).mean()['profit'])\n",
        "axes[0, 1].set_title(\"profit VS discount\")\n",
        "\n",
        "#2\n",
        "sns.pointplot(ax=axes[0, 2], x=company_profit_mean.index,y=company_profit_mean.values)\n",
        "axes[0, 2].set_title('Mean Profit Vs Class')\n",
        "\n",
        "#3\n",
        "sns.barplot(ax=axes[1, 0], x=dataset.groupby('location')['profit'].mean().index, y=dataset.groupby('location')['profit'].mean().values)\n",
        "axes[1, 0].set_title(\"mean profit VS location\")\n",
        "\n",
        "#4\n",
        "sns.scatterplot(ax=axes[1,1], x=dataset['price'], y=Y)\n",
        "\n",
        "#5\n",
        "sns.barplot(ax=axes[1,2], x=dataset.groupby('segment')['profit'].mean().index, y=dataset.groupby('segment')['profit'].mean().values)\n",
        "axes[1,2].set_title(\"mean profit VS segment\")\n",
        "\n",
        "#6\n",
        "sns.boxplot(ax=axes[0,3], x=dataset['no of items'], y=Y)\n",
        "axes[0,3].set_title(\"profit VS no. of items\")\n",
        "\n",
        "#7 add price VS no. of items to check normality of price column values.\n",
        "sns.barplot(ax=axes[1,3], x=dataset['no of items'], y=dataset['price'])\n",
        "axes[1,3].set_title(\"normality of prices\")"
      ],
      "execution_count": null,
      "outputs": [
        {
          "output_type": "execute_result",
          "data": {
            "text/plain": [
              "Text(0.5, 1.0, 'normality of prices')"
            ]
          },
          "metadata": {
            "tags": []
          },
          "execution_count": 7
        },
        {
          "output_type": "display_data",
          "data": {
            "image/png": "[encoded data removed]",
            "text/plain": [
              "<Figure size 1728x720 with 8 Axes>"
            ]
          },
          "metadata": {
            "tags": [],
            "needs_background": "light"
          }
        }
      ]
    },
    {
      "cell_type": "code",
      "metadata": {
        "colab": {
          "base_uri": "https://localhost:8080/",
          "height": 435
        },
        "id": "1LIDee36mwt9",
        "outputId": "7f5441ce-9ecf-4df9-922d-e46e702d0281"
      },
      "source": [
        "#the number of unique values in categorial columns useful for encoding later\n",
        "categorical_data = X.select_dtypes(include='object')\n",
        "col=list(categorical_data.columns)\n",
        "print(\"the number of unique values are:\\n\")\n",
        "for c in col:\n",
        "  print(c, categorical_data[c].nunique())\n",
        "X.describe()"
      ],
      "execution_count": null,
      "outputs": [
        {
          "output_type": "stream",
          "text": [
            "the number of unique values are:\n",
            "\n",
            "departure city 469\n",
            "location 4\n",
            "class 3\n",
            "segment 3\n",
            "sub-class 17\n",
            "delivery type 4\n",
            "departure state 47\n"
          ],
          "name": "stdout"
        },
        {
          "output_type": "execute_result",
          "data": {
            "text/html": [
              "<div>\n",
              "<style scoped>\n",
              "    .dataframe tbody tr th:only-of-type {\n",
              "        vertical-align: middle;\n",
              "    }\n",
              "\n",
              "    .dataframe tbody tr th {\n",
              "        vertical-align: top;\n",
              "    }\n",
              "\n",
              "    .dataframe thead th {\n",
              "        text-align: right;\n",
              "    }\n",
              "</style>\n",
              "<table border=\"1\" class=\"dataframe\">\n",
              "  <thead>\n",
              "    <tr style=\"text-align: right;\">\n",
              "      <th></th>\n",
              "      <th>discount</th>\n",
              "      <th>price</th>\n",
              "      <th>no of items</th>\n",
              "    </tr>\n",
              "  </thead>\n",
              "  <tbody>\n",
              "    <tr>\n",
              "      <th>count</th>\n",
              "      <td>6700.000000</td>\n",
              "      <td>6700.000000</td>\n",
              "      <td>6700.000000</td>\n",
              "    </tr>\n",
              "    <tr>\n",
              "      <th>mean</th>\n",
              "      <td>0.155876</td>\n",
              "      <td>234.424275</td>\n",
              "      <td>3.798507</td>\n",
              "    </tr>\n",
              "    <tr>\n",
              "      <th>std</th>\n",
              "      <td>0.205922</td>\n",
              "      <td>641.440815</td>\n",
              "      <td>2.225327</td>\n",
              "    </tr>\n",
              "    <tr>\n",
              "      <th>min</th>\n",
              "      <td>0.000000</td>\n",
              "      <td>0.836000</td>\n",
              "      <td>1.000000</td>\n",
              "    </tr>\n",
              "    <tr>\n",
              "      <th>25%</th>\n",
              "      <td>0.000000</td>\n",
              "      <td>17.340000</td>\n",
              "      <td>2.000000</td>\n",
              "    </tr>\n",
              "    <tr>\n",
              "      <th>50%</th>\n",
              "      <td>0.200000</td>\n",
              "      <td>54.960000</td>\n",
              "      <td>3.000000</td>\n",
              "    </tr>\n",
              "    <tr>\n",
              "      <th>75%</th>\n",
              "      <td>0.200000</td>\n",
              "      <td>212.940000</td>\n",
              "      <td>5.000000</td>\n",
              "    </tr>\n",
              "    <tr>\n",
              "      <th>max</th>\n",
              "      <td>0.800000</td>\n",
              "      <td>22638.480000</td>\n",
              "      <td>14.000000</td>\n",
              "    </tr>\n",
              "  </tbody>\n",
              "</table>\n",
              "</div>"
            ],
            "text/plain": [
              "          discount         price  no of items\n",
              "count  6700.000000   6700.000000  6700.000000\n",
              "mean      0.155876    234.424275     3.798507\n",
              "std       0.205922    641.440815     2.225327\n",
              "min       0.000000      0.836000     1.000000\n",
              "25%       0.000000     17.340000     2.000000\n",
              "50%       0.200000     54.960000     3.000000\n",
              "75%       0.200000    212.940000     5.000000\n",
              "max       0.800000  22638.480000    14.000000"
            ]
          },
          "metadata": {
            "tags": []
          },
          "execution_count": 9
        }
      ]
    },
    {
      "cell_type": "markdown",
      "metadata": {
        "id": "5eVoMWsSEV0J"
      },
      "source": [
        "**Conclusions: before preprocess**\n",
        "\n",
        "---\n",
        "\n",
        "\n",
        "*   dropped id, RID, address code(it represents the same departure state)\n",
        "*   No trends with dates, not time series analysis. Each row can be grouped\n",
        "    by dates e.g all 2018 years can be replaced with 0, 2019 years with 1...\n",
        "    Months can also be taken into account for better precision eg. 02-2018=2, 02-2019=14... since we don't\n",
        "    have idea if the model will overfit or not due to months, it will be experimental. one will be without months and only years and another with months\n",
        "    as well as years. The one with the best accuracy will be selected.\n",
        "*   departure city has 47 unique values, high variance in categorical, can be neglected. Experimental inclusion-exclusion.\n",
        "*   no need to scale discount lies between 0 and 1\n",
        "*   according to feature co relation scatterplot price do follows a normal distribution, so we can go with standardizing the values instead of min-max scaling.\n",
        "* no of items can be left as it is\n",
        "* all locations nearly have same impact on profits, no superiority OHE\n",
        "* class- fynota has highest mean profit can be give highest priority, so\n",
        "  ordinal encoding, fynota=2, kariox=0, quexty=-1 just to give some priority    accroding to the graph.\n",
        "* segment also has almost equal contibution for profit so OHE\n",
        "* sub-class has 17 different values so maybe label encoding or OHE(you say)\n",
        "* delivery type is OHE\n",
        "* departure state has 47 diff values so maybe label encoding\n",
        "\n",
        "\n",
        "---\n",
        "\n",
        "\n",
        "\n",
        "\n"
      ]
    },
    {
      "cell_type": "code",
      "metadata": {
        "id": "JPGYl3NiONAD",
        "colab": {
          "base_uri": "https://localhost:8080/",
          "height": 789
        },
        "outputId": "310aa4be-cc88-4c38-8d1d-4b4ba6df2538"
      },
      "source": [
        "#plot to study inter feature corealation\n",
        "from pandas.plotting import scatter_matrix\n",
        "scatter_matrix(X, alpha=0.2, figsize=(10, 10), diagonal='kde')"
      ],
      "execution_count": null,
      "outputs": [
        {
          "output_type": "execute_result",
          "data": {
            "text/plain": [
              "array([[<matplotlib.axes._subplots.AxesSubplot object at 0x7fe3b72ceb10>,\n",
              "        <matplotlib.axes._subplots.AxesSubplot object at 0x7fe3b72a3f90>,\n",
              "        <matplotlib.axes._subplots.AxesSubplot object at 0x7fe3b7268650>],\n",
              "       [<matplotlib.axes._subplots.AxesSubplot object at 0x7fe3b721bcd0>,\n",
              "        <matplotlib.axes._subplots.AxesSubplot object at 0x7fe3b71de390>,\n",
              "        <matplotlib.axes._subplots.AxesSubplot object at 0x7fe3b7195a10>],\n",
              "       [<matplotlib.axes._subplots.AxesSubplot object at 0x7fe3b7156150>,\n",
              "        <matplotlib.axes._subplots.AxesSubplot object at 0x7fe3b710b710>,\n",
              "        <matplotlib.axes._subplots.AxesSubplot object at 0x7fe3b710b750>]],\n",
              "      dtype=object)"
            ]
          },
          "metadata": {
            "tags": []
          },
          "execution_count": 10
        },
        {
          "output_type": "display_data",
          "data": {
            "image/png": "[encoded data removed]",
            "text/plain": [
              "<Figure size 720x720 with 9 Axes>"
            ]
          },
          "metadata": {
            "tags": [],
            "needs_background": "light"
          }
        }
      ]
    },
    {
      "cell_type": "code",
      "metadata": {
        "id": "HO3Qt21u17EE"
      },
      "source": [
        "# for i in range(len(X['placement date'])):\n",
        "#   date=X['placement date'][i]\n",
        "#   if date.year==2018:\n",
        "#     X['placement date'][i]=0\n",
        "#   elif date.year==2019:\n",
        "#     X['placement date'][i]=1\n",
        "#   elif date.year==2020:\n",
        "#     X['placement date'][i]=2\n",
        "#   else:\n",
        "#     X['placement date'][i]=3"
      ],
      "execution_count": null,
      "outputs": []
    },
    {
      "cell_type": "code",
      "metadata": {
        "colab": {
          "base_uri": "https://localhost:8080/",
          "height": 195
        },
        "id": "3uwoacJo6Rzd",
        "outputId": "11f300da-76fe-4d27-bef8-cdfd14adaf24"
      },
      "source": [
        "X.head()"
      ],
      "execution_count": null,
      "outputs": [
        {
          "output_type": "execute_result",
          "data": {
            "text/html": [
              "<div>\n",
              "<style scoped>\n",
              "    .dataframe tbody tr th:only-of-type {\n",
              "        vertical-align: middle;\n",
              "    }\n",
              "\n",
              "    .dataframe tbody tr th {\n",
              "        vertical-align: top;\n",
              "    }\n",
              "\n",
              "    .dataframe thead th {\n",
              "        text-align: right;\n",
              "    }\n",
              "</style>\n",
              "<table border=\"1\" class=\"dataframe\">\n",
              "  <thead>\n",
              "    <tr style=\"text-align: right;\">\n",
              "      <th></th>\n",
              "      <th>departure city</th>\n",
              "      <th>discount</th>\n",
              "      <th>price</th>\n",
              "      <th>no of items</th>\n",
              "      <th>location</th>\n",
              "      <th>class</th>\n",
              "      <th>segment</th>\n",
              "      <th>sub-class</th>\n",
              "      <th>delivery type</th>\n",
              "      <th>delivery date</th>\n",
              "      <th>departure state</th>\n",
              "      <th>placement date</th>\n",
              "    </tr>\n",
              "  </thead>\n",
              "  <tbody>\n",
              "    <tr>\n",
              "      <th>0</th>\n",
              "      <td>Houston</td>\n",
              "      <td>0.2</td>\n",
              "      <td>16.448</td>\n",
              "      <td>2</td>\n",
              "      <td>Central</td>\n",
              "      <td>kariox</td>\n",
              "      <td>Consumer</td>\n",
              "      <td>phone</td>\n",
              "      <td>Standard Class</td>\n",
              "      <td>2018-01-01</td>\n",
              "      <td>Texas</td>\n",
              "      <td>0</td>\n",
              "    </tr>\n",
              "    <tr>\n",
              "      <th>1</th>\n",
              "      <td>Westland</td>\n",
              "      <td>0.0</td>\n",
              "      <td>29.700</td>\n",
              "      <td>5</td>\n",
              "      <td>Central</td>\n",
              "      <td>kariox</td>\n",
              "      <td>Consumer</td>\n",
              "      <td>headset</td>\n",
              "      <td>Standard Class</td>\n",
              "      <td>2018-01-01</td>\n",
              "      <td>Michigan</td>\n",
              "      <td>0</td>\n",
              "    </tr>\n",
              "    <tr>\n",
              "      <th>2</th>\n",
              "      <td>Westland</td>\n",
              "      <td>0.0</td>\n",
              "      <td>14.730</td>\n",
              "      <td>3</td>\n",
              "      <td>Central</td>\n",
              "      <td>qexty</td>\n",
              "      <td>Consumer</td>\n",
              "      <td>shorts</td>\n",
              "      <td>Standard Class</td>\n",
              "      <td>2018-01-01</td>\n",
              "      <td>Michigan</td>\n",
              "      <td>0</td>\n",
              "    </tr>\n",
              "    <tr>\n",
              "      <th>3</th>\n",
              "      <td>Westland</td>\n",
              "      <td>0.0</td>\n",
              "      <td>43.920</td>\n",
              "      <td>3</td>\n",
              "      <td>Central</td>\n",
              "      <td>kariox</td>\n",
              "      <td>Consumer</td>\n",
              "      <td>television</td>\n",
              "      <td>Standard Class</td>\n",
              "      <td>2018-01-01</td>\n",
              "      <td>Michigan</td>\n",
              "      <td>0</td>\n",
              "    </tr>\n",
              "    <tr>\n",
              "      <th>4</th>\n",
              "      <td>Westland</td>\n",
              "      <td>0.0</td>\n",
              "      <td>66.580</td>\n",
              "      <td>2</td>\n",
              "      <td>Central</td>\n",
              "      <td>kariox</td>\n",
              "      <td>Consumer</td>\n",
              "      <td>laptop</td>\n",
              "      <td>Standard Class</td>\n",
              "      <td>2018-01-01</td>\n",
              "      <td>Michigan</td>\n",
              "      <td>0</td>\n",
              "    </tr>\n",
              "  </tbody>\n",
              "</table>\n",
              "</div>"
            ],
            "text/plain": [
              "  departure city  discount   price  no of items location   class   segment  \\\n",
              "0        Houston       0.2  16.448            2  Central  kariox  Consumer   \n",
              "1       Westland       0.0  29.700            5  Central  kariox  Consumer   \n",
              "2       Westland       0.0  14.730            3  Central   qexty  Consumer   \n",
              "3       Westland       0.0  43.920            3  Central  kariox  Consumer   \n",
              "4       Westland       0.0  66.580            2  Central  kariox  Consumer   \n",
              "\n",
              "    sub-class   delivery type delivery date departure state placement date  \n",
              "0       phone  Standard Class    2018-01-01           Texas              0  \n",
              "1     headset  Standard Class    2018-01-01        Michigan              0  \n",
              "2      shorts  Standard Class    2018-01-01        Michigan              0  \n",
              "3  television  Standard Class    2018-01-01        Michigan              0  \n",
              "4      laptop  Standard Class    2018-01-01        Michigan              0  "
            ]
          },
          "metadata": {
            "tags": []
          },
          "execution_count": 17
        }
      ]
    },
    {
      "cell_type": "markdown",
      "metadata": {
        "id": "OnDxJFEtlZdv"
      },
      "source": [
        "# Preprocessing"
      ]
    },
    {
      "cell_type": "code",
      "metadata": {
        "id": "dudAtL9ElRfn"
      },
      "source": [
        "from sklearn.preprocessing import StandardScaler, MinMaxScaler, LabelEncoder, OneHotEncoder\n",
        "from sklearn.compose import ColumnTransformer\n",
        "ss, ms=StandardScaler(), MinMaxScaler()\n",
        "le, ohe=LabelEncoder(), OneHotEncoder()\n",
        "\n",
        "def process_to_matrix(data, y_data):\n",
        "  #replacing date years with int to give chronological advantage\n",
        "\n",
        "  for i in range(len(data['delivery date'])):\n",
        "    date=data['delivery date'][i]\n",
        "    if date.year==2018:\n",
        "      data['delivery date'][i]=0\n",
        "    elif date.year==2019:\n",
        "      data['delivery date'][i]=1\n",
        "    elif date.year==2020:\n",
        "      data['delivery date'][i]=2\n",
        "    else:\n",
        "      data['delivery date'][i]=3\n",
        "  \n",
        "  # same for placement date\n",
        "  for i in range(len(data['placement date'])):\n",
        "    date=data['placement date'][i]\n",
        "    if date.year==2018:\n",
        "      data['placement date'][i]=0\n",
        "    elif date.year==2019:\n",
        "      data['placement date'][i]=1\n",
        "    elif date.year==2020:\n",
        "      data['placement date'][i]=2\n",
        "    else:\n",
        "      data['placement date'][i]=3\n",
        "  \n",
        "  data=data.drop(['departure city'], axis=1)\n",
        "  data['sub-class']=le.fit_transform(data['sub-class']) # label encoding the items\n",
        "  data['departure state']=le.fit_transform(data['departure state'])\n",
        "  data['class']=data['class'].replace([\"fynota\", 'kariox', 'qexty'],  (2, 0, -1))\n",
        "\n",
        "  data=data.values\n",
        "  data[:, 1:2]=ss.fit_transform(data[:, 1:2]) #standard scaling the price values\n",
        "  ct = ColumnTransformer(transformers=[('encoder', OneHotEncoder(), [3, 5, 7])], remainder='passthrough')\n",
        "  #ohe delivery type, segment , location\n",
        "  data=ct.fit_transform(data)\n",
        "  y_data=y_data.values.reshape(-1,1)\n",
        "  #y_data=ms.fit_transform(y_data) # min-max scaling the y values.\n",
        "  return data, y_data\n",
        "\n",
        "# #in stake departure state. increasing the dimension to lot extent\n",
        "\n",
        "\n",
        "\n",
        "\n",
        "\n",
        "#after min max scaling y data (only one line uncommented from ur code)\n",
        "\n",
        "\n",
        "# from sklearn.preprocessing import StandardScaler, MinMaxScaler, LabelEncoder, OneHotEncoder\n",
        "# from sklearn.compose import ColumnTransformer\n",
        "# ss, ms=StandardScaler(), MinMaxScaler()\n",
        "# le, ohe=LabelEncoder(), OneHotEncoder()\n",
        "\n",
        "# def process_to_matrix(data, y_data):\n",
        "#   #replacing date years with int to give chronological advantage\n",
        "\n",
        "#   for i in range(len(data['delivery date'])):\n",
        "#     date=data['delivery date'][i]\n",
        "#     if date.year==2018:\n",
        "#       data['delivery date'][i]=0\n",
        "#     elif date.year==2019:\n",
        "#       data['delivery date'][i]=1\n",
        "#     elif date.year==2020:\n",
        "#       data['delivery date'][i]=2\n",
        "#     else:\n",
        "#       data['delivery date'][i]=3\n",
        "  \n",
        "#   # same for placement date\n",
        "#   for i in range(len(data['placement date'])):\n",
        "#     date=data['placement date'][i]\n",
        "#     if date.year==2018:\n",
        "#       data['placement date'][i]=0\n",
        "#     elif date.year==2019:\n",
        "#       data['placement date'][i]=1\n",
        "#     elif date.year==2020:\n",
        "#       data['placement date'][i]=2\n",
        "#     else:\n",
        "#       data['placement date'][i]=3\n",
        "  \n",
        "#   data=data.drop(['departure city'], axis=1)\n",
        "\n",
        "#   data['sub-class']=le.fit_transform(data['sub-class']) # label encoding the items\n",
        "\n",
        "#   data['departure state']=le.fit_transform(data['departure state'])\n",
        "\n",
        "#   data['class']=data['class'].replace([\"fynota\", 'kariox', 'qexty'],  (2, 0, -1))\n",
        "\n",
        "\n",
        "#   data=data.values\n",
        "\n",
        "#   data[:, 1:2]=ss.fit_transform(data[:, 1:2]) #standard scaling the price values\n",
        "\n",
        "\n",
        "#   ct = ColumnTransformer(transformers=[('encoder', OneHotEncoder(), [3, 5, 7])], remainder='passthrough')\n",
        "#   #ohe delivery type, segment , location\n",
        "#   data=ct.fit_transform(data)\n",
        "\n",
        "#   y_data=y_data.values.reshape(-1,1)\n",
        "#   y_data=ms.fit_transform(y_data) # min-max scaling the y values.\n",
        "\n",
        "#   return data, y_data\n",
        "\n",
        "#in stake departure state. increasing the dimension to lot extent"
      ],
      "execution_count": 7,
      "outputs": []
    },
    {
      "cell_type": "markdown",
      "metadata": {
        "id": "Z-l0Fc6YmDAK"
      },
      "source": [
        "X and Y matrices of the whole dataset\n",
        "\n",
        "\n",
        "---\n",
        "\n"
      ]
    },
    {
      "cell_type": "code",
      "metadata": {
        "id": "pOpr-X2MlorD",
        "colab": {
          "base_uri": "https://localhost:8080/"
        },
        "outputId": "70bd88a1-2ebe-4bb3-a4c3-02b18c708f69"
      },
      "source": [
        "# # matrices of whole dataset to be used finally before submission \n",
        "X_matrix, Y_matrix=process_to_matrix(X, Y)\n",
        "X_test_matrix,_=process_to_matrix(X_test, Y)\n",
        "\n",
        "# my code after min max scaling...no change\n",
        "# matrices of whole dataset to be used finally before submission \n",
        "# X_matrix, Y_matrix=process_to_matrix(X, Y)\n",
        "# X_test_matrix,_=process_to_matrix(X_test, Y)"
      ],
      "execution_count": 8,
      "outputs": [
        {
          "output_type": "stream",
          "text": [
            "/usr/local/lib/python3.7/dist-packages/ipykernel_launcher.py:12: SettingWithCopyWarning: \n",
            "A value is trying to be set on a copy of a slice from a DataFrame\n",
            "\n",
            "See the caveats in the documentation: https://pandas.pydata.org/pandas-docs/stable/user_guide/indexing.html#returning-a-view-versus-a-copy\n",
            "  if sys.path[0] == '':\n",
            "/usr/local/lib/python3.7/dist-packages/ipykernel_launcher.py:14: SettingWithCopyWarning: \n",
            "A value is trying to be set on a copy of a slice from a DataFrame\n",
            "\n",
            "See the caveats in the documentation: https://pandas.pydata.org/pandas-docs/stable/user_guide/indexing.html#returning-a-view-versus-a-copy\n",
            "  \n",
            "/usr/local/lib/python3.7/dist-packages/ipykernel_launcher.py:16: SettingWithCopyWarning: \n",
            "A value is trying to be set on a copy of a slice from a DataFrame\n",
            "\n",
            "See the caveats in the documentation: https://pandas.pydata.org/pandas-docs/stable/user_guide/indexing.html#returning-a-view-versus-a-copy\n",
            "  app.launch_new_instance()\n",
            "/usr/local/lib/python3.7/dist-packages/ipykernel_launcher.py:18: SettingWithCopyWarning: \n",
            "A value is trying to be set on a copy of a slice from a DataFrame\n",
            "\n",
            "See the caveats in the documentation: https://pandas.pydata.org/pandas-docs/stable/user_guide/indexing.html#returning-a-view-versus-a-copy\n",
            "/usr/local/lib/python3.7/dist-packages/ipykernel_launcher.py:24: SettingWithCopyWarning: \n",
            "A value is trying to be set on a copy of a slice from a DataFrame\n",
            "\n",
            "See the caveats in the documentation: https://pandas.pydata.org/pandas-docs/stable/user_guide/indexing.html#returning-a-view-versus-a-copy\n",
            "/usr/local/lib/python3.7/dist-packages/ipykernel_launcher.py:26: SettingWithCopyWarning: \n",
            "A value is trying to be set on a copy of a slice from a DataFrame\n",
            "\n",
            "See the caveats in the documentation: https://pandas.pydata.org/pandas-docs/stable/user_guide/indexing.html#returning-a-view-versus-a-copy\n",
            "/usr/local/lib/python3.7/dist-packages/ipykernel_launcher.py:28: SettingWithCopyWarning: \n",
            "A value is trying to be set on a copy of a slice from a DataFrame\n",
            "\n",
            "See the caveats in the documentation: https://pandas.pydata.org/pandas-docs/stable/user_guide/indexing.html#returning-a-view-versus-a-copy\n",
            "/usr/local/lib/python3.7/dist-packages/ipykernel_launcher.py:30: SettingWithCopyWarning: \n",
            "A value is trying to be set on a copy of a slice from a DataFrame\n",
            "\n",
            "See the caveats in the documentation: https://pandas.pydata.org/pandas-docs/stable/user_guide/indexing.html#returning-a-view-versus-a-copy\n",
            "/usr/local/lib/python3.7/dist-packages/ipykernel_launcher.py:18: SettingWithCopyWarning: \n",
            "A value is trying to be set on a copy of a slice from a DataFrame\n",
            "\n",
            "See the caveats in the documentation: https://pandas.pydata.org/pandas-docs/stable/user_guide/indexing.html#returning-a-view-versus-a-copy\n",
            "/usr/local/lib/python3.7/dist-packages/ipykernel_launcher.py:30: SettingWithCopyWarning: \n",
            "A value is trying to be set on a copy of a slice from a DataFrame\n",
            "\n",
            "See the caveats in the documentation: https://pandas.pydata.org/pandas-docs/stable/user_guide/indexing.html#returning-a-view-versus-a-copy\n"
          ],
          "name": "stderr"
        }
      ]
    },
    {
      "cell_type": "code",
      "metadata": {
        "colab": {
          "base_uri": "https://localhost:8080/"
        },
        "id": "uq2CBzRUqx_l",
        "outputId": "66ae9e2f-05af-4f6f-ae84-9036f6949c68"
      },
      "source": [
        "print(X_matrix.shape, X_test_matrix.shape)"
      ],
      "execution_count": 9,
      "outputs": [
        {
          "output_type": "stream",
          "text": [
            "(6700, 19) (3294, 19)\n"
          ],
          "name": "stdout"
        }
      ]
    },
    {
      "cell_type": "markdown",
      "metadata": {
        "id": "5xCdXTqlmKES"
      },
      "source": [
        "\n",
        "\n",
        "---\n",
        "Matrices of the test and train sets for evaluation and testing.\n",
        "\n"
      ]
    },
    {
      "cell_type": "code",
      "metadata": {
        "id": "7POUsyV0mKut",
        "colab": {
          "base_uri": "https://localhost:8080/"
        },
        "outputId": "ed424696-856b-44b6-ae5a-b0d2a643d350"
      },
      "source": [
        "x_train_mat, y_train_mat=process_to_matrix(x_train, y_train)\n",
        "x_test_mat,_=process_to_matrix(x_test, y_test)\n",
        "y_test_mat=y_test.values.reshape(-1,1)\n",
        "\n",
        "\n",
        "#my code after minmax scaling only one last line commented\n",
        "\n",
        "# x_train_mat, y_train_mat=process_to_matrix(x_train, y_train)\n",
        "# x_test_mat,y_test_mat=process_to_matrix(x_test, y_test)\n",
        "\n",
        "#y_test_mat=y_test.values.reshape(-1,1)"
      ],
      "execution_count": 10,
      "outputs": [
        {
          "output_type": "stream",
          "text": [
            "/usr/local/lib/python3.7/dist-packages/ipykernel_launcher.py:16: SettingWithCopyWarning: \n",
            "A value is trying to be set on a copy of a slice from a DataFrame\n",
            "\n",
            "See the caveats in the documentation: https://pandas.pydata.org/pandas-docs/stable/user_guide/indexing.html#returning-a-view-versus-a-copy\n",
            "  app.launch_new_instance()\n",
            "/usr/local/lib/python3.7/dist-packages/ipykernel_launcher.py:14: SettingWithCopyWarning: \n",
            "A value is trying to be set on a copy of a slice from a DataFrame\n",
            "\n",
            "See the caveats in the documentation: https://pandas.pydata.org/pandas-docs/stable/user_guide/indexing.html#returning-a-view-versus-a-copy\n",
            "  \n",
            "/usr/local/lib/python3.7/dist-packages/ipykernel_launcher.py:12: SettingWithCopyWarning: \n",
            "A value is trying to be set on a copy of a slice from a DataFrame\n",
            "\n",
            "See the caveats in the documentation: https://pandas.pydata.org/pandas-docs/stable/user_guide/indexing.html#returning-a-view-versus-a-copy\n",
            "  if sys.path[0] == '':\n",
            "/usr/local/lib/python3.7/dist-packages/ipykernel_launcher.py:18: SettingWithCopyWarning: \n",
            "A value is trying to be set on a copy of a slice from a DataFrame\n",
            "\n",
            "See the caveats in the documentation: https://pandas.pydata.org/pandas-docs/stable/user_guide/indexing.html#returning-a-view-versus-a-copy\n",
            "/usr/local/lib/python3.7/dist-packages/ipykernel_launcher.py:28: SettingWithCopyWarning: \n",
            "A value is trying to be set on a copy of a slice from a DataFrame\n",
            "\n",
            "See the caveats in the documentation: https://pandas.pydata.org/pandas-docs/stable/user_guide/indexing.html#returning-a-view-versus-a-copy\n",
            "/usr/local/lib/python3.7/dist-packages/ipykernel_launcher.py:26: SettingWithCopyWarning: \n",
            "A value is trying to be set on a copy of a slice from a DataFrame\n",
            "\n",
            "See the caveats in the documentation: https://pandas.pydata.org/pandas-docs/stable/user_guide/indexing.html#returning-a-view-versus-a-copy\n",
            "/usr/local/lib/python3.7/dist-packages/ipykernel_launcher.py:24: SettingWithCopyWarning: \n",
            "A value is trying to be set on a copy of a slice from a DataFrame\n",
            "\n",
            "See the caveats in the documentation: https://pandas.pydata.org/pandas-docs/stable/user_guide/indexing.html#returning-a-view-versus-a-copy\n",
            "/usr/local/lib/python3.7/dist-packages/ipykernel_launcher.py:30: SettingWithCopyWarning: \n",
            "A value is trying to be set on a copy of a slice from a DataFrame\n",
            "\n",
            "See the caveats in the documentation: https://pandas.pydata.org/pandas-docs/stable/user_guide/indexing.html#returning-a-view-versus-a-copy\n",
            "/usr/local/lib/python3.7/dist-packages/ipykernel_launcher.py:16: SettingWithCopyWarning: \n",
            "A value is trying to be set on a copy of a slice from a DataFrame\n",
            "\n",
            "See the caveats in the documentation: https://pandas.pydata.org/pandas-docs/stable/user_guide/indexing.html#returning-a-view-versus-a-copy\n",
            "  app.launch_new_instance()\n",
            "/usr/local/lib/python3.7/dist-packages/ipykernel_launcher.py:14: SettingWithCopyWarning: \n",
            "A value is trying to be set on a copy of a slice from a DataFrame\n",
            "\n",
            "See the caveats in the documentation: https://pandas.pydata.org/pandas-docs/stable/user_guide/indexing.html#returning-a-view-versus-a-copy\n",
            "  \n",
            "/usr/local/lib/python3.7/dist-packages/ipykernel_launcher.py:12: SettingWithCopyWarning: \n",
            "A value is trying to be set on a copy of a slice from a DataFrame\n",
            "\n",
            "See the caveats in the documentation: https://pandas.pydata.org/pandas-docs/stable/user_guide/indexing.html#returning-a-view-versus-a-copy\n",
            "  if sys.path[0] == '':\n",
            "/usr/local/lib/python3.7/dist-packages/ipykernel_launcher.py:18: SettingWithCopyWarning: \n",
            "A value is trying to be set on a copy of a slice from a DataFrame\n",
            "\n",
            "See the caveats in the documentation: https://pandas.pydata.org/pandas-docs/stable/user_guide/indexing.html#returning-a-view-versus-a-copy\n",
            "/usr/local/lib/python3.7/dist-packages/ipykernel_launcher.py:28: SettingWithCopyWarning: \n",
            "A value is trying to be set on a copy of a slice from a DataFrame\n",
            "\n",
            "See the caveats in the documentation: https://pandas.pydata.org/pandas-docs/stable/user_guide/indexing.html#returning-a-view-versus-a-copy\n",
            "/usr/local/lib/python3.7/dist-packages/ipykernel_launcher.py:26: SettingWithCopyWarning: \n",
            "A value is trying to be set on a copy of a slice from a DataFrame\n",
            "\n",
            "See the caveats in the documentation: https://pandas.pydata.org/pandas-docs/stable/user_guide/indexing.html#returning-a-view-versus-a-copy\n",
            "/usr/local/lib/python3.7/dist-packages/ipykernel_launcher.py:24: SettingWithCopyWarning: \n",
            "A value is trying to be set on a copy of a slice from a DataFrame\n",
            "\n",
            "See the caveats in the documentation: https://pandas.pydata.org/pandas-docs/stable/user_guide/indexing.html#returning-a-view-versus-a-copy\n",
            "/usr/local/lib/python3.7/dist-packages/ipykernel_launcher.py:30: SettingWithCopyWarning: \n",
            "A value is trying to be set on a copy of a slice from a DataFrame\n",
            "\n",
            "See the caveats in the documentation: https://pandas.pydata.org/pandas-docs/stable/user_guide/indexing.html#returning-a-view-versus-a-copy\n"
          ],
          "name": "stderr"
        }
      ]
    },
    {
      "cell_type": "code",
      "metadata": {
        "colab": {
          "base_uri": "https://localhost:8080/"
        },
        "id": "d-sD6IXMv5O-",
        "outputId": "1a93f311-015c-4a05-b83a-35782832fc7c"
      },
      "source": [
        "print(x_train_mat.shape, y_train_mat.shape,\"\\n\")\n",
        "print(x_test_mat.shape, y_test_mat.shape)"
      ],
      "execution_count": 11,
      "outputs": [
        {
          "output_type": "stream",
          "text": [
            "(5360, 19) (5360, 1) \n",
            "\n",
            "(1340, 19) (1340, 1)\n"
          ],
          "name": "stdout"
        }
      ]
    },
    {
      "cell_type": "markdown",
      "metadata": {
        "id": "IiPkFS83yzUu"
      },
      "source": [
        "# Models & performance: Without standardizing profit"
      ]
    },
    {
      "cell_type": "code",
      "metadata": {
        "id": "FRVN_G2Fs4IK"
      },
      "source": [
        "'''we may also try reducing dimensions by Singular value Decomposition'''\n",
        "\n",
        "# we can try other models for reducing dimensions like PCA and t-SNE"
      ],
      "execution_count": null,
      "outputs": []
    },
    {
      "cell_type": "code",
      "metadata": {
        "colab": {
          "base_uri": "https://localhost:8080/",
          "height": 52
        },
        "id": "4P8JQEMCksSg",
        "outputId": "1b5a6cfd-6929-428d-e3ba-6cfd3f51fd2c"
      },
      "source": [
        "from sklearn.decomposition import TruncatedSVD\n",
        "svd = TruncatedSVD(n_components=15, n_iter=11, random_state=45)\n",
        "x_train_red = svd.fit_transform(x_train_mat)\n",
        "x_test_red = svd.transform(x_test_mat)\n",
        "print(x_train_red.shape, x_test_red.shape)\n",
        "\n",
        "'''But it also doesn't affects much''' "
      ],
      "execution_count": null,
      "outputs": [
        {
          "output_type": "stream",
          "text": [
            "(5360, 15) (1340, 15)\n"
          ],
          "name": "stdout"
        },
        {
          "output_type": "execute_result",
          "data": {
            "application/vnd.google.colaboratory.intrinsic+json": {
              "type": "string"
            },
            "text/plain": [
              "\"But it also doesn't affects much\""
            ]
          },
          "metadata": {
            "tags": []
          },
          "execution_count": 17
        }
      ]
    },
    {
      "cell_type": "markdown",
      "metadata": {
        "id": "siA5fXUaBfeI"
      },
      "source": [
        "Linear Regression "
      ]
    },
    {
      "cell_type": "code",
      "metadata": {
        "id": "5pZjQ0xFyys4"
      },
      "source": [
        "from sklearn.linear_model import LinearRegression\n",
        "from sklearn.metrics import mean_squared_error, r2_score\n",
        "from math import sqrt \n",
        "#from sklearn"
      ],
      "execution_count": 12,
      "outputs": []
    },
    {
      "cell_type": "code",
      "metadata": {
        "colab": {
          "base_uri": "https://localhost:8080/",
          "height": 52
        },
        "id": "iu0YC87N9s2B",
        "outputId": "9326dfb2-1874-4bfc-8e75-eb188050111b"
      },
      "source": [
        "lr_model=LinearRegression()\n",
        "lr_model.fit(x_train_mat, y_train_mat)\n",
        "print(lr_model.score(x_train_mat, y_train_mat))\n",
        "'''we are not going to use R2 score for judgement since the predit method gives scaled values and\n",
        "y_train contains unscaled values, so I think 🤔 RMSE will be good :/'''"
      ],
      "execution_count": 13,
      "outputs": [
        {
          "output_type": "stream",
          "text": [
            "0.2848730222540268\n"
          ],
          "name": "stdout"
        },
        {
          "output_type": "execute_result",
          "data": {
            "application/vnd.google.colaboratory.intrinsic+json": {
              "type": "string"
            },
            "text/plain": [
              "'we are not going to use R2 score for judgement since the predit method gives scaled values and\\ny_train contains unscaled values, so I think 🤔 RMSE will be good :/'"
            ]
          },
          "metadata": {
            "tags": []
          },
          "execution_count": 13
        }
      ]
    },
    {
      "cell_type": "code",
      "metadata": {
        "id": "T7DBiR_TBeVe"
      },
      "source": [
        "results=lr_model.predict(x_test_mat)\n",
        "#results1=ms.inverse_transform(results)"
      ],
      "execution_count": 14,
      "outputs": []
    },
    {
      "cell_type": "code",
      "metadata": {
        "colab": {
          "base_uri": "https://localhost:8080/"
        },
        "id": "T66bM05vB1cu",
        "outputId": "8e970710-0b8a-499a-ffe6-9905c3aeae71"
      },
      "source": [
        "print(\"the RMSE is:\", sqrt(mean_squared_error(y_test_mat, results))) # RMSE is reduced to 0.41 from 226 when used minmax scalar in profit !!!!!"
      ],
      "execution_count": 15,
      "outputs": [
        {
          "output_type": "stream",
          "text": [
            "the RMSE is: 226.40964719361756\n"
          ],
          "name": "stdout"
        }
      ]
    },
    {
      "cell_type": "code",
      "metadata": {
        "id": "B2Y1ud-ev9GE"
      },
      "source": [
        ""
      ],
      "execution_count": null,
      "outputs": []
    },
    {
      "cell_type": "code",
      "metadata": {
        "id": "_RwgpX6ov9EI"
      },
      "source": [
        ""
      ],
      "execution_count": null,
      "outputs": []
    },
    {
      "cell_type": "markdown",
      "metadata": {
        "id": "Ll-7AMlwKArx"
      },
      "source": [
        "Decision tree regressor and random forest regressor"
      ]
    },
    {
      "cell_type": "code",
      "metadata": {
        "colab": {
          "base_uri": "https://localhost:8080/"
        },
        "id": "Z7JDeuz1KGtk",
        "outputId": "413950dd-b3a7-4bc7-d920-27ca52ff5418"
      },
      "source": [
        "from sklearn.tree import DecisionTreeRegressor \n",
        "from sklearn.model_selection import GridSearchCV\n",
        "\n",
        "parameters = {'max_depth':[9, 10, 11, 12]}\n",
        "\n",
        "dt_model = DecisionTreeRegressor(random_state = 0) \n",
        "clf = GridSearchCV(dt_model, parameters, cv=5, refit=True)\n",
        "clf.fit(X_matrix, Y_matrix)\n",
        "\n",
        "print(clf.best_params_)\n"
      ],
      "execution_count": 16,
      "outputs": [
        {
          "output_type": "stream",
          "text": [
            "{'max_depth': 11}\n"
          ],
          "name": "stdout"
        }
      ]
    },
    {
      "cell_type": "code",
      "metadata": {
        "colab": {
          "base_uri": "https://localhost:8080/"
        },
        "id": "x0-NPnYWJC83",
        "outputId": "b922a48f-5d2e-44e4-dc49-dbf01254d6ef"
      },
      "source": [
        "dt_model = DecisionTreeRegressor(max_depth=11)\n",
        "\n",
        "dt_model.fit(x_train_mat, y_train_mat)\n",
        "\n",
        "y_train_pred = dt_model.predict(x_train_mat)\n",
        "y_pred = dt_model.predict(x_test_mat)\n",
        "\n",
        "\n",
        "print('Train r2 score: ', r2_score(y_train_pred, y_train_mat))\n",
        "print('Test r2 score: ', r2_score(y_test_mat, y_pred))\n",
        "\n",
        "train_rmse = np.sqrt(mean_squared_error(y_train_pred, y_train_mat))\n",
        "test_rmse = np.sqrt(mean_squared_error(y_test_mat, y_pred))\n",
        "\n",
        "print(f'Train RMSE: {train_rmse:.4f}')\n",
        "print(f'Test RMSE: {test_rmse:.4f}')\n",
        "\n",
        "\n",
        "#with min max scalar on profit\n",
        "# Train r2 score:  0.9929352918520938\n",
        "# Test r2 score:  -236.42661256012633\n",
        "# Train RMSE: 0.0016\n",
        "# Test RMSE: 0.4131"
      ],
      "execution_count": 17,
      "outputs": [
        {
          "output_type": "stream",
          "text": [
            "Train r2 score:  0.9929700657472971\n",
            "Test r2 score:  -0.08352675181711344\n",
            "Train RMSE: 18.9325\n",
            "Test RMSE: 256.4922\n"
          ],
          "name": "stdout"
        }
      ]
    },
    {
      "cell_type": "code",
      "metadata": {
        "id": "DNO92tPcJc_8"
      },
      "source": [
        ""
      ],
      "execution_count": null,
      "outputs": []
    },
    {
      "cell_type": "code",
      "metadata": {
        "id": "rdGmY67mtq1f"
      },
      "source": [
        "# prediction = dt_model.predict(X_test_matrix)"
      ],
      "execution_count": null,
      "outputs": []
    },
    {
      "cell_type": "code",
      "metadata": {
        "colab": {
          "base_uri": "https://localhost:8080/"
        },
        "id": "qyOfnPeotq1_",
        "outputId": "982c12cd-922e-4c65-9427-12c18dc5f277"
      },
      "source": [
        "# prediction.shape"
      ],
      "execution_count": null,
      "outputs": [
        {
          "output_type": "execute_result",
          "data": {
            "text/plain": [
              "(3294,)"
            ]
          },
          "metadata": {
            "tags": []
          },
          "execution_count": 32
        }
      ]
    },
    {
      "cell_type": "code",
      "metadata": {
        "id": "lj31cII1tq2C"
      },
      "source": [
        ""
      ],
      "execution_count": null,
      "outputs": []
    },
    {
      "cell_type": "code",
      "metadata": {
        "id": "7MQbBOY3Jc86"
      },
      "source": [
        ""
      ],
      "execution_count": null,
      "outputs": []
    },
    {
      "cell_type": "code",
      "metadata": {
        "id": "A_ro5kGzQtlK"
      },
      "source": [
        "\n",
        "from sklearn.ensemble import RandomForestRegressor\n",
        "\n",
        "parameters = {'max_depth':[11, 12, 13, 14], \"n_estimators\":[120, 150, 170, 190]}\n",
        "\n",
        "rf_model = RandomForestRegressor(random_state = 0, n_estimators=150, max_depth=12) \n",
        "clf = GridSearchCV(rf_model, parameters, cv=5, refit=True, verbose=1, n_jobs=-1)\n",
        "clf.fit(x_train_mat, y_train)\n",
        "print(clf.best_params_)\n",
        "print(\"r2 score:\", clf.score(x_train_mat, y_train_mat))\n",
        "\n",
        "'''overfitting'''"
      ],
      "execution_count": null,
      "outputs": []
    },
    {
      "cell_type": "code",
      "metadata": {
        "id": "9L0Y0unBQA4J"
      },
      "source": [
        "rf_model = RandomForestRegressor(random_state = 0, n_estimators=150, max_depth=12)\n",
        "rf_model.fit(X_matrix, Y)\n",
        "results=clf.predict(X_test_matrix)\n",
        "#print(\"the RMSE is:\", sqrt(mean_squared_error(y_test_mat, results)))"
      ],
      "execution_count": null,
      "outputs": []
    },
    {
      "cell_type": "markdown",
      "metadata": {
        "id": "P7X0XLVc0HE8"
      },
      "source": [
        "I guess the overfitting occurs because our training data is comparatively small\n",
        "\n",
        "So lets try some regularization to simple linear model in order to avoid overfitting like using Ridge and Lasso Regressors\n"
      ]
    },
    {
      "cell_type": "code",
      "metadata": {
        "id": "fEuzNG5Hz7ka"
      },
      "source": [
        ""
      ],
      "execution_count": null,
      "outputs": []
    },
    {
      "cell_type": "code",
      "metadata": {
        "colab": {
          "base_uri": "https://localhost:8080/"
        },
        "id": "ZSY_dFYKz6PD",
        "outputId": "ba7ac17e-c6e1-4ea7-f0eb-0da60844aaba"
      },
      "source": [
        "# ridge regressor\n",
        "from sklearn.linear_model import Ridge\n",
        "\n",
        "params_ridge = {\n",
        "    'alpha' : [.01, .1, .5, .7, .9, .95, .99, 1, 5, 10, 20],\n",
        "    'fit_intercept' : [True, False],\n",
        "    'normalize' : [True,False],\n",
        "    'solver' : ['svd', 'cholesky', 'lsqr', 'sparse_cg', 'sag', 'saga']\n",
        "}\n",
        "\n",
        "ridge_model = Ridge()\n",
        "ridge_regressor = GridSearchCV(ridge_model, params_ridge, scoring='neg_root_mean_squared_error', cv=5, n_jobs=-1)\n",
        "ridge_regressor.fit(X_matrix,Y_matrix)\n",
        "print(f'Optimal alpha: {ridge_regressor.best_params_[\"alpha\"]:.2f}')\n",
        "print(f'Optimal fit_intercept: {ridge_regressor.best_params_[\"fit_intercept\"]}')\n",
        "print(f'Optimal normalize: {ridge_regressor.best_params_[\"normalize\"]}')\n",
        "print(f'Optimal solver: {ridge_regressor.best_params_[\"solver\"]}')\n",
        "print(f'Best score: {ridge_regressor.best_score_}')\n",
        "\n",
        "\n",
        "#with min max scalar on profit\n",
        "# Optimal alpha: 0.50\n",
        "# Optimal fit_intercept: True\n",
        "# Optimal normalize: True\n",
        "# Optimal solver: saga\n",
        "# Best score: -0.013304186360330822"
      ],
      "execution_count": 18,
      "outputs": [
        {
          "output_type": "stream",
          "text": [
            "Optimal alpha: 0.50\n",
            "Optimal fit_intercept: True\n",
            "Optimal normalize: True\n",
            "Optimal solver: saga\n",
            "Best score: -199.54204280071454\n"
          ],
          "name": "stdout"
        }
      ]
    },
    {
      "cell_type": "code",
      "metadata": {
        "colab": {
          "base_uri": "https://localhost:8080/"
        },
        "id": "3Z5oI6wqz6LG",
        "outputId": "d9c49c8f-0ecc-4a2d-b09a-aa05f5f0a46d"
      },
      "source": [
        "ridge_model = Ridge(alpha=ridge_regressor.best_params_[\"alpha\"], fit_intercept=ridge_regressor.best_params_[\"fit_intercept\"], \n",
        "                    normalize=ridge_regressor.best_params_[\"normalize\"], solver=ridge_regressor.best_params_[\"solver\"])\n",
        "ridge_model.fit(x_train_mat, y_train_mat)\n",
        "y_train_pred = ridge_model.predict(x_train_mat)\n",
        "y_pred = ridge_model.predict(x_test_mat)\n",
        "\n",
        "\n",
        "print('Train r2 score: ', r2_score(y_train_pred, y_train_mat))\n",
        "print('Test r2 score: ', r2_score(y_test_mat, y_pred))\n",
        "\n",
        "train_rmse = np.sqrt(mean_squared_error(y_train_pred, y_train_mat))\n",
        "test_rmse = np.sqrt(mean_squared_error(y_test_mat, y_pred))\n",
        "\n",
        "print(f'Train RMSE: {train_rmse:.4f}')\n",
        "print(f'Test RMSE: {test_rmse:.4f}')\n",
        "\n",
        "\n",
        "#with min max scalar on profit\n",
        "# Train r2 score:  -4.784270556004419\n",
        "# Test r2 score:  -237.16276506430415\n",
        "# Train RMSE: 0.0162\n",
        "# Test RMSE: 0.4137"
      ],
      "execution_count": 19,
      "outputs": [
        {
          "output_type": "stream",
          "text": [
            "Train r2 score:  -4.782430048261023\n",
            "Test r2 score:  0.15862464357400385\n",
            "Train RMSE: 195.8170\n",
            "Test RMSE: 226.0212\n"
          ],
          "name": "stdout"
        }
      ]
    },
    {
      "cell_type": "code",
      "metadata": {
        "colab": {
          "base_uri": "https://localhost:8080/"
        },
        "id": "YPys1C8sz6Jv",
        "outputId": "6cbdfb5a-8f0f-4bec-cffc-90ed74ee863f"
      },
      "source": [
        "#lasso regressor\n",
        "\n",
        "from sklearn.linear_model import Lasso\n",
        "params_lasso = {\n",
        "    'alpha' : [.01, .1, .5, .7, .9, .95, .99, 1, 5, 10, 20],\n",
        "    'fit_intercept' : [True, False],\n",
        "    'normalize' : [True,False],\n",
        "}\n",
        "\n",
        "lasso_model = Lasso()\n",
        "lasso_regressor = GridSearchCV(lasso_model, params_lasso, scoring='neg_root_mean_squared_error', cv=5, n_jobs=-1)\n",
        "lasso_regressor.fit(X_matrix, Y_matrix)\n",
        "print(f'Optimal alpha: {lasso_regressor.best_params_[\"alpha\"]:.2f}')\n",
        "print(f'Optimal fit_intercept: {lasso_regressor.best_params_[\"fit_intercept\"]}')\n",
        "print(f'Optimal normalize: {lasso_regressor.best_params_[\"normalize\"]}')\n",
        "print(f'Best score: {lasso_regressor.best_score_}')\n",
        "\n",
        "#havent run with minmax scalar on profit"
      ],
      "execution_count": null,
      "outputs": [
        {
          "output_type": "stream",
          "text": [
            "Optimal alpha: 0.10\n",
            "Optimal fit_intercept: True\n",
            "Optimal normalize: True\n",
            "Best score: -201.21412306143253\n"
          ],
          "name": "stdout"
        }
      ]
    },
    {
      "cell_type": "code",
      "metadata": {
        "colab": {
          "base_uri": "https://localhost:8080/"
        },
        "id": "DMfK3tVkz6HH",
        "outputId": "3708bfc3-ffe5-44c7-a6fd-95e21e2c37fd"
      },
      "source": [
        "\n",
        "lasso_model = Lasso(alpha=lasso_regressor.best_params_[\"alpha\"], fit_intercept=lasso_regressor.best_params_[\"fit_intercept\"], \n",
        "                    normalize=lasso_regressor.best_params_[\"normalize\"])\n",
        "lasso_model.fit(x_train_mat, y_train_mat)\n",
        "y_train_pred = lasso_model.predict(x_train_mat)\n",
        "y_pred = lasso_model.predict(x_test_mat)\n",
        "\n",
        "\n",
        "print('Train r2 score: ', r2_score(y_train_pred, y_train_mat))\n",
        "print('Test r2 score: ', r2_score(y_test_mat, y_pred))\n",
        "\n",
        "train_rmse = np.sqrt(mean_squared_error(y_train_pred, y_train_mat))\n",
        "test_rmse = np.sqrt(mean_squared_error(y_test_mat, y_pred))\n",
        "\n",
        "print(f'Train RMSE: {train_rmse:.4f}')\n",
        "print(f'Test RMSE: {test_rmse:.4f}')"
      ],
      "execution_count": null,
      "outputs": [
        {
          "output_type": "stream",
          "text": [
            "Train r2 score:  -2.044196148746507\n",
            "Test r2 score:  0.16006001245096613\n",
            "Train RMSE: 192.4136\n",
            "Test RMSE: 225.8284\n"
          ],
          "name": "stdout"
        }
      ]
    },
    {
      "cell_type": "code",
      "metadata": {
        "colab": {
          "base_uri": "https://localhost:8080/"
        },
        "id": "5lZCjbd66siM",
        "outputId": "d3504dd1-bb63-492f-caf0-7685b04e1189"
      },
      "source": [
        "# elastic net\n",
        "\n",
        "from sklearn.linear_model import ElasticNetCV, ElasticNet\n",
        "\n",
        "# Use ElasticNetCV to tune alpha automatically instead of redundantly using ElasticNet and GridSearchCV\n",
        "el_model = ElasticNetCV(l1_ratio=[.1, .5, .7, .9, .95, .99, 1], eps=5e-2, cv=10, n_jobs=-1)         \n",
        "el_model.fit(X_matrix, Y_matrix)\n",
        "print(f'Optimal alpha: {el_model.alpha_:.6f}')\n",
        "print(f'Optimal l1_ratio: {el_model.l1_ratio_:.3f}')\n",
        "print(f'Number of iterations {el_model.n_iter_}')\n",
        "\n",
        "\n",
        "#havent run with minmax scalar on profit"
      ],
      "execution_count": null,
      "outputs": [
        {
          "output_type": "stream",
          "text": [
            "/usr/local/lib/python3.7/dist-packages/sklearn/linear_model/_coordinate_descent.py:1088: DataConversionWarning: A column-vector y was passed when a 1d array was expected. Please change the shape of y to (n_samples, ), for example using ravel().\n",
            "  y = column_or_1d(y, warn=True)\n"
          ],
          "name": "stderr"
        },
        {
          "output_type": "stream",
          "text": [
            "Optimal alpha: 5.274676\n",
            "Optimal l1_ratio: 1.000\n",
            "Number of iterations 7\n"
          ],
          "name": "stdout"
        }
      ]
    },
    {
      "cell_type": "code",
      "metadata": {
        "colab": {
          "base_uri": "https://localhost:8080/"
        },
        "id": "HnqwnNu36see",
        "outputId": "200de86c-25be-4849-e1ee-8d1bc64fe6b1"
      },
      "source": [
        "y_train_pred = el_model.predict(x_train_mat)\n",
        "y_pred = el_model.predict(x_test_mat)\n",
        "\n",
        "print('Train r2 score: ', r2_score(y_train_pred, y_train_mat))\n",
        "print('Test r2 score: ', r2_score(y_test_mat, y_pred))\n",
        "\n",
        "train_rmse = np.sqrt(mean_squared_error(y_train_pred, y_train_mat))\n",
        "test_rmse = np.sqrt(mean_squared_error(y_test_mat, y_pred))\n",
        "\n",
        "print(f'Train RMSE: {train_rmse:.4f}')\n",
        "print(f'Test RMSE: {test_rmse:.4f}')\n",
        "\n",
        "#no improvement"
      ],
      "execution_count": null,
      "outputs": [
        {
          "output_type": "stream",
          "text": [
            "Train r2 score:  -2.5474412207291013\n",
            "Test r2 score:  0.15294271641781843\n",
            "Train RMSE: 193.9941\n",
            "Test RMSE: 226.7831\n"
          ],
          "name": "stdout"
        }
      ]
    },
    {
      "cell_type": "code",
      "metadata": {
        "colab": {
          "base_uri": "https://localhost:8080/"
        },
        "id": "AxM97DjT6sbf",
        "outputId": "c68b85be-5a31-463e-bbd4-87f99bf4d556"
      },
      "source": [
        "#knn regressor\n",
        "\n",
        "from sklearn.neighbors import KNeighborsRegressor\n",
        "\n",
        "params_knn = {\n",
        "    'n_neighbors' : [3, 5, 7, 9, 11],\n",
        "}\n",
        "\n",
        "knn_model = KNeighborsRegressor()\n",
        "knn_regressor = GridSearchCV(knn_model, params_knn, scoring='neg_root_mean_squared_error', cv=10, n_jobs=-1)\n",
        "knn_regressor.fit(X_matrix, Y_matrix)\n",
        "print(f'Optimal neighbors: {knn_regressor.best_params_[\"n_neighbors\"]}')\n",
        "print(f'Best score: {knn_regressor.best_score_}')\n",
        "\n",
        "# #with min max scalar on profit\n",
        "# Optimal neighbors: 11\n",
        "# Best score: -0.012966869696837474\n"
      ],
      "execution_count": 20,
      "outputs": [
        {
          "output_type": "stream",
          "text": [
            "Optimal neighbors: 11\n",
            "Best score: -194.50244897655605\n"
          ],
          "name": "stdout"
        }
      ]
    },
    {
      "cell_type": "code",
      "metadata": {
        "colab": {
          "base_uri": "https://localhost:8080/"
        },
        "id": "53iYwSUL6sZb",
        "outputId": "a8d57bca-8a66-4166-f115-3e1d9b3b98da"
      },
      "source": [
        "knn_model = KNeighborsRegressor(n_neighbors=knn_regressor.best_params_[\"n_neighbors\"])\n",
        "knn_model.fit(x_train_mat, y_train_mat)\n",
        "y_train_pred = knn_model.predict(x_train_mat)\n",
        "y_pred = knn_model.predict(x_test_mat)\n",
        "print('Train r2 score: ', r2_score(y_train_pred, y_train_mat))\n",
        "print('Test r2 score: ', r2_score(y_test_mat, y_pred))\n",
        "train_rmse = np.sqrt(mean_squared_error(y_train_pred, y_train_mat))\n",
        "test_rmse = np.sqrt(mean_squared_error(y_test_mat, y_pred))\n",
        "print(f'Train RMSE: {train_rmse:.4f}')\n",
        "print(f'Test RMSE: {test_rmse:.4f}')\n",
        "\n",
        "\n",
        "# #with min max scalar on profit\n",
        "# #very bad r2 score\n",
        "# Train r2 score:  -3.9223239702202806\n",
        "# Test r2 score:  -237.79308198318466\n",
        "# Train RMSE: 0.0147\n",
        "# Test RMSE: 0.4142"
      ],
      "execution_count": 21,
      "outputs": [
        {
          "output_type": "stream",
          "text": [
            "Train r2 score:  -3.9223239702202823\n",
            "Test r2 score:  0.08103756048968247\n",
            "Train RMSE: 178.1500\n",
            "Test RMSE: 236.2127\n"
          ],
          "name": "stdout"
        }
      ]
    },
    {
      "cell_type": "code",
      "metadata": {
        "id": "-bj5MQgW-7fC"
      },
      "source": [
        ""
      ],
      "execution_count": null,
      "outputs": []
    },
    {
      "cell_type": "code",
      "metadata": {
        "id": "xAXzJmlX-7cI"
      },
      "source": [
        ""
      ],
      "execution_count": null,
      "outputs": []
    },
    {
      "cell_type": "code",
      "metadata": {
        "id": "jmZWav62z6E_"
      },
      "source": [
        "# from sklearn.ensemble import RandomForestRegressor\n",
        "\n",
        "# params_rf = {\n",
        "#     'max_depth': [10, 30, 35, 50, 65, 75, 100],\n",
        "#     'max_features': [.3, .4, .5, .6],\n",
        "#     'min_samples_leaf': [3, 4, 5],\n",
        "#     'min_samples_split': [8, 10, 12],\n",
        "#     'n_estimators': [30, 50, 100, 200]\n",
        "# }\n",
        "\n",
        "# rf = RandomForestRegressor()\n",
        "# rf_regressor = GridSearchCV(rf, params_rf, scoring='neg_root_mean_squared_error', cv = 10, n_jobs = -1)\n",
        "# rf_regressor.fit(x_train_mat, y_train_mat)\n",
        "# print(f'Optimal depth: {rf_regressor.best_params_[\"max_depth\"]}')\n",
        "# print(f'Optimal max_features: {rf_regressor.best_params_[\"max_features\"]}')\n",
        "# print(f'Optimal min_sample_leaf: {rf_regressor.best_params_[\"min_samples_leaf\"]}')\n",
        "# print(f'Optimal min_samples_split: {rf_regressor.best_params_[\"min_samples_split\"]}')\n",
        "# print(f'Optimal n_estimators: {rf_regressor.best_params_[\"n_estimators\"]}')\n",
        "# print(f'Best score: {rf_regressor.best_score_}')"
      ],
      "execution_count": null,
      "outputs": []
    },
    {
      "cell_type": "code",
      "metadata": {
        "id": "GRRtMFYW_Ehx"
      },
      "source": [
        "# rf_model = RandomForestRegressor(max_depth=rf_regressor.best_params_[\"max_depth\"], \n",
        "#                                  max_features=rf_regressor.best_params_[\"max_features\"], \n",
        "#                                  min_samples_leaf=rf_regressor.best_params_[\"min_samples_leaf\"], \n",
        "#                                  min_samples_split=rf_regressor.best_params_[\"min_samples_split\"], \n",
        "#                                  n_estimators=rf_regressor.best_params_[\"n_estimators\"], \n",
        "#                                  n_jobs=-1, oob_score=True)\n",
        "# rf_model.fit(x_train_mat, y_train_mat)\n",
        "# y_train_pred = rf_model.predict(x_train_mat)\n",
        "# y_pred = rf_model.predict(x_test_mat)\n",
        "# print('Train r2 score: ', r2_score(y_train_pred, y_train_mat))\n",
        "# print('Test r2 score: ', r2_score(y_test_mat, y_pred))\n",
        "# train_rmse = np.sqrt(mean_squared_error(y_train_pred, y_train_mat))\n",
        "# test_rmse = np.sqrt(mean_squared_error(y_test_mat, y_pred))\n",
        "# print(f'Train RMSE: {train_rmse:.4f}')\n",
        "# print(f'Test RMSE: {test_rmse:.4f}')"
      ],
      "execution_count": null,
      "outputs": []
    },
    {
      "cell_type": "code",
      "metadata": {
        "id": "z-_-3XCw_Ecs"
      },
      "source": [
        ""
      ],
      "execution_count": null,
      "outputs": []
    },
    {
      "cell_type": "code",
      "metadata": {
        "id": "chD2sb4TAmMd"
      },
      "source": [
        "#lightbgm"
      ],
      "execution_count": null,
      "outputs": []
    },
    {
      "cell_type": "code",
      "metadata": {
        "colab": {
          "base_uri": "https://localhost:8080/"
        },
        "id": "82FrlodbAk3y",
        "outputId": "88233c12-fce6-4627-ae11-622ba4303367"
      },
      "source": [
        "import lightgbm as lgbm\n",
        "\n",
        "params_lgbm = {\n",
        "    'learning_rate': [.01, .1, .5, .7, .9, .95, .99, 1],\n",
        "    'boosting': ['gbdt'],\n",
        "    'metric': ['l1'],\n",
        "    'feature_fraction': [.3, .4, .5, 1],\n",
        "    'num_leaves': [20],\n",
        "    'min_data': [10],\n",
        "    'max_depth': [10],\n",
        "    'n_estimators': [10, 30, 50, 100]\n",
        "}\n",
        "\n",
        "lgb = lgbm.LGBMRegressor()\n",
        "lgb_regressor = GridSearchCV(lgb, params_lgbm, scoring='neg_root_mean_squared_error', cv = 10, n_jobs = -1)\n",
        "lgb_regressor.fit(X_matrix, Y_matrix)\n",
        "print(f'Optimal lr: {lgb_regressor.best_params_[\"learning_rate\"]}')\n",
        "print(f'Optimal feature_fraction: {lgb_regressor.best_params_[\"feature_fraction\"]}')\n",
        "print(f'Optimal n_estimators: {lgb_regressor.best_params_[\"n_estimators\"]}')\n",
        "print(f'Best score: {lgb_regressor.best_score_}')\n",
        "\n",
        "# #with min max scalar\n",
        "# Optimal lr: 0.5\n",
        "# Optimal feature_fraction: 1\n",
        "# Optimal n_estimators: 100\n",
        "# Best score: -0.009270715467693456"
      ],
      "execution_count": 22,
      "outputs": [
        {
          "output_type": "stream",
          "text": [
            "Optimal lr: 0.5\n",
            "Optimal feature_fraction: 1\n",
            "Optimal n_estimators: 100\n",
            "Best score: -139.06030620058152\n"
          ],
          "name": "stdout"
        },
        {
          "output_type": "stream",
          "text": [
            "/usr/local/lib/python3.7/dist-packages/sklearn/utils/validation.py:760: DataConversionWarning: A column-vector y was passed when a 1d array was expected. Please change the shape of y to (n_samples, ), for example using ravel().\n",
            "  y = column_or_1d(y, warn=True)\n"
          ],
          "name": "stderr"
        }
      ]
    },
    {
      "cell_type": "code",
      "metadata": {
        "colab": {
          "base_uri": "https://localhost:8080/"
        },
        "id": "MtCeKTY-Ak06",
        "outputId": "7a25f9af-2d20-4c32-ef32-56d21ec9dc7e"
      },
      "source": [
        "lgb_model = lgbm.LGBMRegressor(learning_rate=lgb_regressor.best_params_[\"learning_rate\"], boosting='gbdt', \n",
        "                               metric='l1', feature_fraction=lgb_regressor.best_params_[\"feature_fraction\"], \n",
        "                               num_leaves=20, min_data=10, max_depth=10, \n",
        "                               n_estimators=lgb_regressor.best_params_[\"n_estimators\"], n_jobs=-1)\n",
        "lgb_model.fit(x_train_mat, y_train_mat)\n",
        "y_train_pred = lgb_model.predict(x_train_mat)\n",
        "y_pred = lgb_model.predict(x_test_mat)\n",
        "print('Train r2 score: ', r2_score(y_train_pred, y_train_mat))\n",
        "print('Test r2 score: ', r2_score(y_test_mat, y_pred))\n",
        "train_rmse = np.sqrt(mean_squared_error(y_train_pred, y_train_mat))\n",
        "test_rmse = np.sqrt(mean_squared_error(y_test_mat, y_pred))\n",
        "print(f'Train RMSE: {train_rmse:.4f}')\n",
        "print(f'Test RMSE: {test_rmse:.4f}')\n",
        "\n",
        "#with min max scalar\n",
        "# Train r2 score:  0.9641215723192995\n",
        "# Test r2 score:  -236.12860842493708\n",
        "# Train RMSE: 0.0033\n",
        "# Test RMSE: 0.4128\n",
        "\n",
        "\n",
        "#good r2 train score"
      ],
      "execution_count": 23,
      "outputs": [
        {
          "output_type": "stream",
          "text": [
            "Train r2 score:  0.964121570127011\n",
            "Test r2 score:  0.24975931719446842\n",
            "Train RMSE: 40.3608\n",
            "Test RMSE: 213.4296\n"
          ],
          "name": "stdout"
        },
        {
          "output_type": "stream",
          "text": [
            "/usr/local/lib/python3.7/dist-packages/sklearn/utils/validation.py:760: DataConversionWarning: A column-vector y was passed when a 1d array was expected. Please change the shape of y to (n_samples, ), for example using ravel().\n",
            "  y = column_or_1d(y, warn=True)\n"
          ],
          "name": "stderr"
        }
      ]
    },
    {
      "cell_type": "code",
      "metadata": {
        "colab": {
          "base_uri": "https://localhost:8080/"
        },
        "id": "KG0RK_ikBZpP",
        "outputId": "0aefa0ce-ec16-4749-d90e-a9f48a778bac"
      },
      "source": [
        "#xgboost\n",
        "from xgboost.sklearn import XGBRegressor\n",
        "\n",
        "params_xgb = {\n",
        "    'learning_rate': [.1, .5, .7, .9, .95, .99, 1],\n",
        "    'colsample_bytree': [.3, .4, .5, .6],\n",
        "    'max_depth': [4],\n",
        "    'alpha': [3],\n",
        "    'subsample': [.5],\n",
        "    'n_estimators': [30, 70, 100, 200]\n",
        "}\n",
        "\n",
        "xgb_model = XGBRegressor()\n",
        "xgb_regressor = GridSearchCV(xgb_model, params_xgb, scoring='neg_root_mean_squared_error', cv = 10, n_jobs = -1)\n",
        "xgb_regressor.fit(X_matrix, Y_matrix)\n",
        "print(f'Optimal lr: {xgb_regressor.best_params_[\"learning_rate\"]}')\n",
        "print(f'Optimal colsample_bytree: {xgb_regressor.best_params_[\"colsample_bytree\"]}')\n",
        "print(f'Optimal n_estimators: {xgb_regressor.best_params_[\"n_estimators\"]}')\n",
        "print(f'Best score: {xgb_regressor.best_score_}')\n",
        "\n",
        "#havent run with min max scalar"
      ],
      "execution_count": null,
      "outputs": [
        {
          "output_type": "stream",
          "text": [
            "[15:39:03] WARNING: /workspace/src/objective/regression_obj.cu:152: reg:linear is now deprecated in favor of reg:squarederror.\n",
            "Optimal lr: 0.1\n",
            "Optimal colsample_bytree: 0.6\n",
            "Optimal n_estimators: 30\n",
            "Best score: -169.33197493157644\n"
          ],
          "name": "stdout"
        }
      ]
    },
    {
      "cell_type": "code",
      "metadata": {
        "colab": {
          "base_uri": "https://localhost:8080/"
        },
        "id": "wibEJqSOREgO",
        "outputId": "c63f9178-d790-4050-ece7-f280515efc53"
      },
      "source": [
        "xgb_model = XGBRegressor(learning_rate=xgb_regressor.best_params_[\"learning_rate\"], \n",
        "                         colsample_bytree=xgb_regressor.best_params_[\"colsample_bytree\"], \n",
        "                         max_depth=4, alpha=3, subsample=.5, \n",
        "                         n_estimators=xgb_regressor.best_params_[\"n_estimators\"], n_jobs=-1)\n",
        "\n",
        "xgb_model.fit(x_train_mat, y_train_mat)\n",
        "y_train_pred = xgb_model.predict(x_train_mat)\n",
        "y_pred = xgb_model.predict(x_test_mat)\n",
        "\n",
        "\n",
        "print('Train r2 score: ', r2_score(y_train_pred, y_train_mat))\n",
        "print('Test r2 score: ', r2_score(y_test_mat, y_pred))\n",
        "\n",
        "\n",
        "train_rmse = np.sqrt(mean_squared_error(y_train_pred, y_train_mat))\n",
        "test_rmse = np.sqrt(mean_squared_error(y_test_mat, y_pred))\n",
        "\n",
        "print(f'Train RMSE: {train_rmse:.4f}')\n",
        "print(f'Test RMSE: {test_rmse:.4f}')\n",
        "\n",
        "# bad r2 score"
      ],
      "execution_count": null,
      "outputs": [
        {
          "output_type": "stream",
          "text": [
            "[15:39:57] WARNING: /workspace/src/objective/regression_obj.cu:152: reg:linear is now deprecated in favor of reg:squarederror.\n",
            "Train r2 score:  0.28498238613887605\n",
            "Test r2 score:  0.33706071833305173\n",
            "Train RMSE: 117.3171\n",
            "Test RMSE: 200.6279\n"
          ],
          "name": "stdout"
        }
      ]
    },
    {
      "cell_type": "code",
      "metadata": {
        "colab": {
          "base_uri": "https://localhost:8080/"
        },
        "id": "WzSOwV2JREdL",
        "outputId": "3450bd5d-d10e-4972-9345-22a33448b5c6"
      },
      "source": [
        "# XGB with early stopping\n",
        "xgb_model.fit(x_train_mat, y_train_mat, early_stopping_rounds=4,\n",
        "             eval_set=[(x_test_mat, y_test_mat)], verbose=False)\n",
        "y_train_pred = xgb_model.predict(x_train_mat)\n",
        "y_pred = xgb_model.predict(x_test_mat)\n",
        "\n",
        "print('Train r2 score: ', r2_score(y_train_pred, y_train_mat))\n",
        "print('Test r2 score: ', r2_score(y_test_mat, y_pred))\n",
        "\n",
        "train_rmse = np.sqrt(mean_squared_error(y_train_pred, y_train_mat))\n",
        "test_rmse = np.sqrt(mean_squared_error(y_test_mat, y_pred))\n",
        "\n",
        "print(f'Train RMSE: {train_rmse:.4f}')\n",
        "print(f'Test RMSE: {test_rmse:.4f}')\n"
      ],
      "execution_count": null,
      "outputs": [
        {
          "output_type": "stream",
          "text": [
            "[15:42:11] WARNING: /workspace/src/objective/regression_obj.cu:152: reg:linear is now deprecated in favor of reg:squarederror.\n",
            "Train r2 score:  -0.3565010029083382\n",
            "Test r2 score:  0.35135693899026144\n",
            "Train RMSE: 133.5377\n",
            "Test RMSE: 198.4528\n"
          ],
          "name": "stdout"
        }
      ]
    },
    {
      "cell_type": "code",
      "metadata": {
        "id": "HO2lfb3WREat"
      },
      "source": [
        "# using stacking regressor"
      ],
      "execution_count": null,
      "outputs": []
    },
    {
      "cell_type": "code",
      "metadata": {
        "id": "BWbu6l-wUigz"
      },
      "source": [
        ""
      ],
      "execution_count": null,
      "outputs": []
    },
    {
      "cell_type": "code",
      "metadata": {
        "id": "tRQjv-ZAUid4"
      },
      "source": [
        ""
      ],
      "execution_count": null,
      "outputs": []
    },
    {
      "cell_type": "code",
      "metadata": {
        "id": "h671z-GuUdEP"
      },
      "source": [
        "# using keras regressor\n",
        "\n",
        "from keras.models import Sequential\n",
        "from keras.layers import Dense\n",
        "from keras.wrappers.scikit_learn import KerasRegressor\n",
        "from sklearn.model_selection import cross_val_score\n",
        "from sklearn.model_selection import KFold\n",
        "from sklearn.preprocessing import StandardScaler\n",
        "from sklearn.pipeline import Pipeline\n",
        "\n"
      ],
      "execution_count": null,
      "outputs": []
    },
    {
      "cell_type": "code",
      "metadata": {
        "id": "t3DkDK8ZUdBT"
      },
      "source": [
        "# define base model\n",
        "def baseline_model():\n",
        "\t# create model\n",
        "\tmodel = Sequential()\n",
        "\tmodel.add(Dense(19, input_dim=19, kernel_initializer='normal', activation='relu'))\n",
        "\tmodel.add(Dense(1, kernel_initializer='normal'))\n",
        "\t# Compile model\n",
        "\tmodel.compile(loss='mean_squared_error', optimizer='adam')\n",
        "\treturn model"
      ],
      "execution_count": null,
      "outputs": []
    },
    {
      "cell_type": "code",
      "metadata": {
        "id": "uBGodQMMVgeT"
      },
      "source": [
        "# fix random seed for reproducibility\n",
        "seed = 7\n",
        "np.random.seed(seed)\n",
        "# evaluate model with standardized dataset\n",
        "estimator = KerasRegressor(build_fn=baseline_model, nb_epoch=100, batch_size=5, verbose=0)"
      ],
      "execution_count": null,
      "outputs": []
    },
    {
      "cell_type": "code",
      "metadata": {
        "id": "ueVRvqYWWmBA"
      },
      "source": [
        "# needed for converting numpy to tensors\n",
        "x_modify = np.asarray(x_train_mat).astype('float32')\n",
        "y_modify = np.asarray(y_train_mat).astype('float32')\n"
      ],
      "execution_count": null,
      "outputs": []
    },
    {
      "cell_type": "code",
      "metadata": {
        "colab": {
          "base_uri": "https://localhost:8080/"
        },
        "id": "EREljs78VgT1",
        "outputId": "33cd724c-74ff-4507-c200-591846c3b052"
      },
      "source": [
        "kfold = KFold(n_splits=10, random_state=seed)\n",
        "results = cross_val_score(estimator, x_modify, y_modify, cv=kfold, n_jobs=1)\n",
        "print(\"Results: %.2f (%.2f) MSE\" % (results.mean(), results.std()))"
      ],
      "execution_count": null,
      "outputs": [
        {
          "output_type": "stream",
          "text": [
            "/usr/local/lib/python3.7/dist-packages/sklearn/model_selection/_split.py:296: FutureWarning: Setting a random_state has no effect since shuffle is False. This will raise an error in 0.24. You should leave random_state to its default (None), or set shuffle=True.\n",
            "  FutureWarning\n"
          ],
          "name": "stderr"
        },
        {
          "output_type": "stream",
          "text": [
            "Results: -51422.29 (57719.70) MSE\n"
          ],
          "name": "stdout"
        }
      ]
    },
    {
      "cell_type": "code",
      "metadata": {
        "id": "i8Jbv2SFVgQF"
      },
      "source": [
        "# # evaluate model with standardized dataset\n",
        "# np.random.seed(seed)\n",
        "# estimators = []\n",
        "# estimators.append(('standardize', StandardScaler()))\n",
        "# estimators.append(('mlp', KerasRegressor(build_fn=baseline_model, epochs=50, batch_size=5, verbose=0)))\n",
        "# pipeline = Pipeline(estimators)\n",
        "# kfold = KFold(n_splits=10, random_state=seed)\n",
        "# results = cross_val_score(pipeline, x_modify, y_modify, cv=kfold, n_jobs=1)\n",
        "# print(\"Standardized: %.2f (%.2f) MSE\" % (results.mean(), results.std()))\n",
        "\n",
        "# #huge time taking"
      ],
      "execution_count": null,
      "outputs": []
    },
    {
      "cell_type": "code",
      "metadata": {
        "id": "AHRek1dGtr_c"
      },
      "source": [
        ""
      ],
      "execution_count": null,
      "outputs": []
    },
    {
      "cell_type": "code",
      "metadata": {
        "id": "nG1lwF_Otr74"
      },
      "source": [
        ""
      ],
      "execution_count": null,
      "outputs": []
    },
    {
      "cell_type": "code",
      "metadata": {
        "id": "oQP4fqkxBZlk"
      },
      "source": [
        "#LSTM\n",
        "#better with minmax scalar on profit\n",
        "\n",
        "import tensorflow as tf\n",
        "from tensorflow import keras\n",
        "from tensorflow.keras import layers\n",
        "\n",
        "from keras.models import Sequential\n",
        "from keras.layers import Dense\n",
        "from keras.layers import LSTM\n",
        "from keras.layers import Dropout\n",
        "\n",
        "from keras.callbacks import EarlyStopping, ReduceLROnPlateau\n",
        "from keras.losses import mean_squared_error"
      ],
      "execution_count": null,
      "outputs": []
    },
    {
      "cell_type": "code",
      "metadata": {
        "id": "YacTbgnIgAbd"
      },
      "source": [
        "# needed for converting numpy to tensors\n",
        "x_modify = np.asarray(x_train_mat).astype('float32')\n",
        "y_modify = np.asarray(y_train_mat).astype('float32')"
      ],
      "execution_count": null,
      "outputs": []
    },
    {
      "cell_type": "code",
      "metadata": {
        "id": "eIi73sXYzQAM"
      },
      "source": [
        "# reshaping needed for keras lstm\n",
        "x_reshape = x_modify.reshape(-1, 1, 19)\n",
        "y_reshape = y_modify.reshape(-1, 1, 1)"
      ],
      "execution_count": null,
      "outputs": []
    },
    {
      "cell_type": "code",
      "metadata": {
        "colab": {
          "base_uri": "https://localhost:8080/"
        },
        "id": "2VEpVzW0zWSI",
        "outputId": "63d01c6f-9f30-4ed4-ec2c-26cb4996b545"
      },
      "source": [
        "x_reshape.shape"
      ],
      "execution_count": null,
      "outputs": [
        {
          "output_type": "execute_result",
          "data": {
            "text/plain": [
              "(5360, 1, 19)"
            ]
          },
          "metadata": {
            "tags": []
          },
          "execution_count": 16
        }
      ]
    },
    {
      "cell_type": "code",
      "metadata": {
        "colab": {
          "base_uri": "https://localhost:8080/"
        },
        "id": "5feO_3I1j1Qe",
        "outputId": "a6f693d7-9469-4fc1-eeef-723f09a2884e"
      },
      "source": [
        "def root_mean_squared_error(y_true, y_pred):\n",
        "    return K.sqrt(K.mean(K.square(y_pred - y_true)))\n",
        "\n",
        "model = keras.models.Sequential([\n",
        "    keras.layers.LSTM(19, return_sequences=True, input_shape=(1,19)),\n",
        "    keras.layers.LSTM(19, return_sequences=True),\n",
        "    keras.layers.LSTM(19),\n",
        "    keras.layers.Dense(1)\n",
        "])\n",
        "\n",
        "model.compile(optimizer=tf.keras.optimizers.Adam(learning_rate=0.0005), \n",
        "              loss = 'mse',\n",
        "              metrics=[tf.keras.metrics.RootMeanSquaredError(name='rmse')])\n",
        "\n",
        "early_stopping = EarlyStopping(\n",
        "    patience=5, # how many epochs to wait before stopping\n",
        "    monitor='val_rmse', \n",
        "    mode='min',\n",
        "    restore_best_weights=True,\n",
        ")\n",
        "\n",
        "reduceLROnPlat = ReduceLROnPlateau(\n",
        "    monitor='val_rmse', \n",
        "    factor=0.8, \n",
        "    patience=2, \n",
        "    mode='auto', \n",
        "    cooldown=3,\n",
        "    min_lr=0.00001\n",
        ")\n",
        "\n",
        "model.summary()\n",
        "\n",
        "history = model.fit(x_reshape, y_reshape, epochs=48,\n",
        "                    #validation_data=(X_valid, y_valid),\n",
        "                    callbacks = [early_stopping, reduceLROnPlat])\n",
        "\n",
        "#results shown are with min max scalar on profit\n",
        "# 48th epoch showed minm loss"
      ],
      "execution_count": null,
      "outputs": [
        {
          "output_type": "stream",
          "text": [
            "Model: \"sequential\"\n",
            "_________________________________________________________________\n",
            "Layer (type)                 Output Shape              Param #   \n",
            "=================================================================\n",
            "lstm (LSTM)                  (None, 1, 19)             2964      \n",
            "_________________________________________________________________\n",
            "lstm_1 (LSTM)                (None, 1, 19)             2964      \n",
            "_________________________________________________________________\n",
            "lstm_2 (LSTM)                (None, 19)                2964      \n",
            "_________________________________________________________________\n",
            "dense (Dense)                (None, 1)                 20        \n",
            "=================================================================\n",
            "Total params: 8,912\n",
            "Trainable params: 8,912\n",
            "Non-trainable params: 0\n",
            "_________________________________________________________________\n",
            "Epoch 1/48\n",
            "168/168 [==============================] - 5s 4ms/step - loss: 0.0481 - rmse: 0.2135\n",
            "WARNING:tensorflow:Early stopping conditioned on metric `val_rmse` which is not available. Available metrics are: loss,rmse\n",
            "WARNING:tensorflow:Learning rate reduction is conditioned on metric `val_rmse` which is not available. Available metrics are: loss,rmse,lr\n",
            "Epoch 2/48\n",
            "168/168 [==============================] - 1s 4ms/step - loss: 5.2933e-04 - rmse: 0.0228\n",
            "WARNING:tensorflow:Early stopping conditioned on metric `val_rmse` which is not available. Available metrics are: loss,rmse\n",
            "WARNING:tensorflow:Learning rate reduction is conditioned on metric `val_rmse` which is not available. Available metrics are: loss,rmse,lr\n",
            "Epoch 3/48\n",
            "168/168 [==============================] - 1s 4ms/step - loss: 3.8519e-04 - rmse: 0.0193\n",
            "WARNING:tensorflow:Early stopping conditioned on metric `val_rmse` which is not available. Available metrics are: loss,rmse\n",
            "WARNING:tensorflow:Learning rate reduction is conditioned on metric `val_rmse` which is not available. Available metrics are: loss,rmse,lr\n",
            "Epoch 4/48\n",
            "168/168 [==============================] - 1s 4ms/step - loss: 2.6478e-04 - rmse: 0.0162\n",
            "WARNING:tensorflow:Early stopping conditioned on metric `val_rmse` which is not available. Available metrics are: loss,rmse\n",
            "WARNING:tensorflow:Learning rate reduction is conditioned on metric `val_rmse` which is not available. Available metrics are: loss,rmse,lr\n",
            "Epoch 5/48\n",
            "168/168 [==============================] - 1s 3ms/step - loss: 2.3006e-04 - rmse: 0.0151\n",
            "WARNING:tensorflow:Early stopping conditioned on metric `val_rmse` which is not available. Available metrics are: loss,rmse\n",
            "WARNING:tensorflow:Learning rate reduction is conditioned on metric `val_rmse` which is not available. Available metrics are: loss,rmse,lr\n",
            "Epoch 6/48\n",
            "168/168 [==============================] - 0s 2ms/step - loss: 2.4640e-04 - rmse: 0.0156\n",
            "WARNING:tensorflow:Early stopping conditioned on metric `val_rmse` which is not available. Available metrics are: loss,rmse\n",
            "WARNING:tensorflow:Learning rate reduction is conditioned on metric `val_rmse` which is not available. Available metrics are: loss,rmse,lr\n",
            "Epoch 7/48\n",
            "168/168 [==============================] - 1s 3ms/step - loss: 4.0450e-04 - rmse: 0.0197\n",
            "WARNING:tensorflow:Early stopping conditioned on metric `val_rmse` which is not available. Available metrics are: loss,rmse\n",
            "WARNING:tensorflow:Learning rate reduction is conditioned on metric `val_rmse` which is not available. Available metrics are: loss,rmse,lr\n",
            "Epoch 8/48\n",
            "168/168 [==============================] - 1s 4ms/step - loss: 2.0752e-04 - rmse: 0.0143\n",
            "WARNING:tensorflow:Early stopping conditioned on metric `val_rmse` which is not available. Available metrics are: loss,rmse\n",
            "WARNING:tensorflow:Learning rate reduction is conditioned on metric `val_rmse` which is not available. Available metrics are: loss,rmse,lr\n",
            "Epoch 9/48\n",
            "168/168 [==============================] - 1s 4ms/step - loss: 2.4808e-04 - rmse: 0.0157\n",
            "WARNING:tensorflow:Early stopping conditioned on metric `val_rmse` which is not available. Available metrics are: loss,rmse\n",
            "WARNING:tensorflow:Learning rate reduction is conditioned on metric `val_rmse` which is not available. Available metrics are: loss,rmse,lr\n",
            "Epoch 10/48\n",
            "168/168 [==============================] - 1s 4ms/step - loss: 1.6509e-04 - rmse: 0.0126\n",
            "WARNING:tensorflow:Early stopping conditioned on metric `val_rmse` which is not available. Available metrics are: loss,rmse\n",
            "WARNING:tensorflow:Learning rate reduction is conditioned on metric `val_rmse` which is not available. Available metrics are: loss,rmse,lr\n",
            "Epoch 11/48\n",
            "168/168 [==============================] - 1s 4ms/step - loss: 1.9202e-04 - rmse: 0.0138\n",
            "WARNING:tensorflow:Early stopping conditioned on metric `val_rmse` which is not available. Available metrics are: loss,rmse\n",
            "WARNING:tensorflow:Learning rate reduction is conditioned on metric `val_rmse` which is not available. Available metrics are: loss,rmse,lr\n",
            "Epoch 12/48\n",
            "168/168 [==============================] - 1s 4ms/step - loss: 1.9013e-04 - rmse: 0.0137\n",
            "WARNING:tensorflow:Early stopping conditioned on metric `val_rmse` which is not available. Available metrics are: loss,rmse\n",
            "WARNING:tensorflow:Learning rate reduction is conditioned on metric `val_rmse` which is not available. Available metrics are: loss,rmse,lr\n",
            "Epoch 13/48\n",
            "168/168 [==============================] - 1s 4ms/step - loss: 1.5017e-04 - rmse: 0.0121\n",
            "WARNING:tensorflow:Early stopping conditioned on metric `val_rmse` which is not available. Available metrics are: loss,rmse\n",
            "WARNING:tensorflow:Learning rate reduction is conditioned on metric `val_rmse` which is not available. Available metrics are: loss,rmse,lr\n",
            "Epoch 14/48\n",
            "168/168 [==============================] - 1s 4ms/step - loss: 1.3555e-04 - rmse: 0.0115\n",
            "WARNING:tensorflow:Early stopping conditioned on metric `val_rmse` which is not available. Available metrics are: loss,rmse\n",
            "WARNING:tensorflow:Learning rate reduction is conditioned on metric `val_rmse` which is not available. Available metrics are: loss,rmse,lr\n",
            "Epoch 15/48\n",
            "168/168 [==============================] - 1s 4ms/step - loss: 2.1265e-04 - rmse: 0.0142\n",
            "WARNING:tensorflow:Early stopping conditioned on metric `val_rmse` which is not available. Available metrics are: loss,rmse\n",
            "WARNING:tensorflow:Learning rate reduction is conditioned on metric `val_rmse` which is not available. Available metrics are: loss,rmse,lr\n",
            "Epoch 16/48\n",
            "168/168 [==============================] - 1s 4ms/step - loss: 1.4398e-04 - rmse: 0.0119\n",
            "WARNING:tensorflow:Early stopping conditioned on metric `val_rmse` which is not available. Available metrics are: loss,rmse\n",
            "WARNING:tensorflow:Learning rate reduction is conditioned on metric `val_rmse` which is not available. Available metrics are: loss,rmse,lr\n",
            "Epoch 17/48\n",
            "168/168 [==============================] - 1s 3ms/step - loss: 1.2471e-04 - rmse: 0.0110\n",
            "WARNING:tensorflow:Early stopping conditioned on metric `val_rmse` which is not available. Available metrics are: loss,rmse\n",
            "WARNING:tensorflow:Learning rate reduction is conditioned on metric `val_rmse` which is not available. Available metrics are: loss,rmse,lr\n",
            "Epoch 18/48\n",
            "168/168 [==============================] - 1s 4ms/step - loss: 2.0132e-04 - rmse: 0.0139\n",
            "WARNING:tensorflow:Early stopping conditioned on metric `val_rmse` which is not available. Available metrics are: loss,rmse\n",
            "WARNING:tensorflow:Learning rate reduction is conditioned on metric `val_rmse` which is not available. Available metrics are: loss,rmse,lr\n",
            "Epoch 19/48\n",
            "168/168 [==============================] - 1s 4ms/step - loss: 1.4399e-04 - rmse: 0.0118\n",
            "WARNING:tensorflow:Early stopping conditioned on metric `val_rmse` which is not available. Available metrics are: loss,rmse\n",
            "WARNING:tensorflow:Learning rate reduction is conditioned on metric `val_rmse` which is not available. Available metrics are: loss,rmse,lr\n",
            "Epoch 20/48\n",
            "168/168 [==============================] - 1s 3ms/step - loss: 1.3976e-04 - rmse: 0.0118\n",
            "WARNING:tensorflow:Early stopping conditioned on metric `val_rmse` which is not available. Available metrics are: loss,rmse\n",
            "WARNING:tensorflow:Learning rate reduction is conditioned on metric `val_rmse` which is not available. Available metrics are: loss,rmse,lr\n",
            "Epoch 21/48\n",
            "168/168 [==============================] - 1s 4ms/step - loss: 1.8757e-04 - rmse: 0.0135\n",
            "WARNING:tensorflow:Early stopping conditioned on metric `val_rmse` which is not available. Available metrics are: loss,rmse\n",
            "WARNING:tensorflow:Learning rate reduction is conditioned on metric `val_rmse` which is not available. Available metrics are: loss,rmse,lr\n",
            "Epoch 22/48\n",
            "168/168 [==============================] - 1s 4ms/step - loss: 1.3450e-04 - rmse: 0.0115\n",
            "WARNING:tensorflow:Early stopping conditioned on metric `val_rmse` which is not available. Available metrics are: loss,rmse\n",
            "WARNING:tensorflow:Learning rate reduction is conditioned on metric `val_rmse` which is not available. Available metrics are: loss,rmse,lr\n",
            "Epoch 23/48\n",
            "168/168 [==============================] - 1s 4ms/step - loss: 1.7746e-04 - rmse: 0.0132\n",
            "WARNING:tensorflow:Early stopping conditioned on metric `val_rmse` which is not available. Available metrics are: loss,rmse\n",
            "WARNING:tensorflow:Learning rate reduction is conditioned on metric `val_rmse` which is not available. Available metrics are: loss,rmse,lr\n",
            "Epoch 24/48\n",
            "168/168 [==============================] - 1s 4ms/step - loss: 9.9193e-05 - rmse: 0.0099\n",
            "WARNING:tensorflow:Early stopping conditioned on metric `val_rmse` which is not available. Available metrics are: loss,rmse\n",
            "WARNING:tensorflow:Learning rate reduction is conditioned on metric `val_rmse` which is not available. Available metrics are: loss,rmse,lr\n",
            "Epoch 25/48\n",
            "168/168 [==============================] - 1s 4ms/step - loss: 1.4830e-04 - rmse: 0.0121\n",
            "WARNING:tensorflow:Early stopping conditioned on metric `val_rmse` which is not available. Available metrics are: loss,rmse\n",
            "WARNING:tensorflow:Learning rate reduction is conditioned on metric `val_rmse` which is not available. Available metrics are: loss,rmse,lr\n",
            "Epoch 26/48\n",
            "168/168 [==============================] - 1s 4ms/step - loss: 1.1038e-04 - rmse: 0.0104\n",
            "WARNING:tensorflow:Early stopping conditioned on metric `val_rmse` which is not available. Available metrics are: loss,rmse\n",
            "WARNING:tensorflow:Learning rate reduction is conditioned on metric `val_rmse` which is not available. Available metrics are: loss,rmse,lr\n",
            "Epoch 27/48\n",
            "168/168 [==============================] - 1s 4ms/step - loss: 9.0891e-05 - rmse: 0.0094\n",
            "WARNING:tensorflow:Early stopping conditioned on metric `val_rmse` which is not available. Available metrics are: loss,rmse\n",
            "WARNING:tensorflow:Learning rate reduction is conditioned on metric `val_rmse` which is not available. Available metrics are: loss,rmse,lr\n",
            "Epoch 28/48\n",
            "168/168 [==============================] - 1s 4ms/step - loss: 1.3187e-04 - rmse: 0.0114\n",
            "WARNING:tensorflow:Early stopping conditioned on metric `val_rmse` which is not available. Available metrics are: loss,rmse\n",
            "WARNING:tensorflow:Learning rate reduction is conditioned on metric `val_rmse` which is not available. Available metrics are: loss,rmse,lr\n",
            "Epoch 29/48\n",
            "168/168 [==============================] - 1s 4ms/step - loss: 1.2914e-04 - rmse: 0.0112\n",
            "WARNING:tensorflow:Early stopping conditioned on metric `val_rmse` which is not available. Available metrics are: loss,rmse\n",
            "WARNING:tensorflow:Learning rate reduction is conditioned on metric `val_rmse` which is not available. Available metrics are: loss,rmse,lr\n",
            "Epoch 30/48\n",
            "168/168 [==============================] - 1s 4ms/step - loss: 1.1675e-04 - rmse: 0.0107\n",
            "WARNING:tensorflow:Early stopping conditioned on metric `val_rmse` which is not available. Available metrics are: loss,rmse\n",
            "WARNING:tensorflow:Learning rate reduction is conditioned on metric `val_rmse` which is not available. Available metrics are: loss,rmse,lr\n",
            "Epoch 31/48\n",
            "168/168 [==============================] - 1s 4ms/step - loss: 9.1279e-05 - rmse: 0.0095\n",
            "WARNING:tensorflow:Early stopping conditioned on metric `val_rmse` which is not available. Available metrics are: loss,rmse\n",
            "WARNING:tensorflow:Learning rate reduction is conditioned on metric `val_rmse` which is not available. Available metrics are: loss,rmse,lr\n",
            "Epoch 32/48\n",
            "168/168 [==============================] - 1s 4ms/step - loss: 1.1712e-04 - rmse: 0.0107\n",
            "WARNING:tensorflow:Early stopping conditioned on metric `val_rmse` which is not available. Available metrics are: loss,rmse\n",
            "WARNING:tensorflow:Learning rate reduction is conditioned on metric `val_rmse` which is not available. Available metrics are: loss,rmse,lr\n",
            "Epoch 33/48\n",
            "168/168 [==============================] - 1s 4ms/step - loss: 1.1279e-04 - rmse: 0.0105\n",
            "WARNING:tensorflow:Early stopping conditioned on metric `val_rmse` which is not available. Available metrics are: loss,rmse\n",
            "WARNING:tensorflow:Learning rate reduction is conditioned on metric `val_rmse` which is not available. Available metrics are: loss,rmse,lr\n",
            "Epoch 34/48\n",
            "168/168 [==============================] - 1s 4ms/step - loss: 7.3229e-05 - rmse: 0.0084\n",
            "WARNING:tensorflow:Early stopping conditioned on metric `val_rmse` which is not available. Available metrics are: loss,rmse\n",
            "WARNING:tensorflow:Learning rate reduction is conditioned on metric `val_rmse` which is not available. Available metrics are: loss,rmse,lr\n",
            "Epoch 35/48\n",
            "168/168 [==============================] - 1s 4ms/step - loss: 1.1450e-04 - rmse: 0.0106\n",
            "WARNING:tensorflow:Early stopping conditioned on metric `val_rmse` which is not available. Available metrics are: loss,rmse\n",
            "WARNING:tensorflow:Learning rate reduction is conditioned on metric `val_rmse` which is not available. Available metrics are: loss,rmse,lr\n",
            "Epoch 36/48\n",
            "168/168 [==============================] - 1s 4ms/step - loss: 1.1271e-04 - rmse: 0.0106\n",
            "WARNING:tensorflow:Early stopping conditioned on metric `val_rmse` which is not available. Available metrics are: loss,rmse\n",
            "WARNING:tensorflow:Learning rate reduction is conditioned on metric `val_rmse` which is not available. Available metrics are: loss,rmse,lr\n",
            "Epoch 37/48\n",
            "168/168 [==============================] - 1s 4ms/step - loss: 9.9334e-05 - rmse: 0.0099\n",
            "WARNING:tensorflow:Early stopping conditioned on metric `val_rmse` which is not available. Available metrics are: loss,rmse\n",
            "WARNING:tensorflow:Learning rate reduction is conditioned on metric `val_rmse` which is not available. Available metrics are: loss,rmse,lr\n",
            "Epoch 38/48\n",
            "168/168 [==============================] - 1s 4ms/step - loss: 1.4815e-04 - rmse: 0.0120\n",
            "WARNING:tensorflow:Early stopping conditioned on metric `val_rmse` which is not available. Available metrics are: loss,rmse\n",
            "WARNING:tensorflow:Learning rate reduction is conditioned on metric `val_rmse` which is not available. Available metrics are: loss,rmse,lr\n",
            "Epoch 39/48\n",
            "168/168 [==============================] - 1s 4ms/step - loss: 1.0403e-04 - rmse: 0.0102\n",
            "WARNING:tensorflow:Early stopping conditioned on metric `val_rmse` which is not available. Available metrics are: loss,rmse\n",
            "WARNING:tensorflow:Learning rate reduction is conditioned on metric `val_rmse` which is not available. Available metrics are: loss,rmse,lr\n",
            "Epoch 40/48\n",
            "168/168 [==============================] - 1s 4ms/step - loss: 8.8962e-05 - rmse: 0.0094\n",
            "WARNING:tensorflow:Early stopping conditioned on metric `val_rmse` which is not available. Available metrics are: loss,rmse\n",
            "WARNING:tensorflow:Learning rate reduction is conditioned on metric `val_rmse` which is not available. Available metrics are: loss,rmse,lr\n",
            "Epoch 41/48\n",
            "168/168 [==============================] - 1s 4ms/step - loss: 1.0142e-04 - rmse: 0.0100\n",
            "WARNING:tensorflow:Early stopping conditioned on metric `val_rmse` which is not available. Available metrics are: loss,rmse\n",
            "WARNING:tensorflow:Learning rate reduction is conditioned on metric `val_rmse` which is not available. Available metrics are: loss,rmse,lr\n",
            "Epoch 42/48\n",
            "168/168 [==============================] - 1s 4ms/step - loss: 1.1886e-04 - rmse: 0.0108\n",
            "WARNING:tensorflow:Early stopping conditioned on metric `val_rmse` which is not available. Available metrics are: loss,rmse\n",
            "WARNING:tensorflow:Learning rate reduction is conditioned on metric `val_rmse` which is not available. Available metrics are: loss,rmse,lr\n",
            "Epoch 43/48\n",
            "168/168 [==============================] - 1s 3ms/step - loss: 8.6182e-05 - rmse: 0.0093\n",
            "WARNING:tensorflow:Early stopping conditioned on metric `val_rmse` which is not available. Available metrics are: loss,rmse\n",
            "WARNING:tensorflow:Learning rate reduction is conditioned on metric `val_rmse` which is not available. Available metrics are: loss,rmse,lr\n",
            "Epoch 44/48\n",
            "168/168 [==============================] - 1s 4ms/step - loss: 1.0951e-04 - rmse: 0.0103\n",
            "WARNING:tensorflow:Early stopping conditioned on metric `val_rmse` which is not available. Available metrics are: loss,rmse\n",
            "WARNING:tensorflow:Learning rate reduction is conditioned on metric `val_rmse` which is not available. Available metrics are: loss,rmse,lr\n",
            "Epoch 45/48\n",
            "168/168 [==============================] - 1s 4ms/step - loss: 7.3907e-05 - rmse: 0.0085\n",
            "WARNING:tensorflow:Early stopping conditioned on metric `val_rmse` which is not available. Available metrics are: loss,rmse\n",
            "WARNING:tensorflow:Learning rate reduction is conditioned on metric `val_rmse` which is not available. Available metrics are: loss,rmse,lr\n",
            "Epoch 46/48\n",
            "168/168 [==============================] - 1s 4ms/step - loss: 1.2476e-04 - rmse: 0.0111\n",
            "WARNING:tensorflow:Early stopping conditioned on metric `val_rmse` which is not available. Available metrics are: loss,rmse\n",
            "WARNING:tensorflow:Learning rate reduction is conditioned on metric `val_rmse` which is not available. Available metrics are: loss,rmse,lr\n",
            "Epoch 47/48\n",
            "168/168 [==============================] - 1s 4ms/step - loss: 1.2432e-04 - rmse: 0.0110\n",
            "WARNING:tensorflow:Early stopping conditioned on metric `val_rmse` which is not available. Available metrics are: loss,rmse\n",
            "WARNING:tensorflow:Learning rate reduction is conditioned on metric `val_rmse` which is not available. Available metrics are: loss,rmse,lr\n",
            "Epoch 48/48\n",
            "168/168 [==============================] - 1s 4ms/step - loss: 8.2550e-05 - rmse: 0.0090\n",
            "WARNING:tensorflow:Early stopping conditioned on metric `val_rmse` which is not available. Available metrics are: loss,rmse\n",
            "WARNING:tensorflow:Learning rate reduction is conditioned on metric `val_rmse` which is not available. Available metrics are: loss,rmse,lr\n"
          ],
          "name": "stdout"
        }
      ]
    },
    {
      "cell_type": "code",
      "metadata": {
        "id": "kkRI5GR4lySM"
      },
      "source": [
        "# needed for converting numpy to tensors\n",
        "x_test_modify = np.asarray(x_test_mat).astype('float32')\n",
        "\n",
        "#y_test_modify = np.asarray(y_test_mat).astype('float32')"
      ],
      "execution_count": null,
      "outputs": []
    },
    {
      "cell_type": "code",
      "metadata": {
        "id": "s9EYkNHEmCPx"
      },
      "source": [
        "# reshaping needed for keras lstm\n",
        "x_test_reshape = x_test_modify.reshape(-1, 1, 19)\n",
        "\n",
        "#y_test_reshape = y_test_modify.reshape(-1, 1, 1)"
      ],
      "execution_count": null,
      "outputs": []
    },
    {
      "cell_type": "code",
      "metadata": {
        "id": "M4PLy2kHlmhx"
      },
      "source": [
        "prediction = model.predict(x_test_reshape)"
      ],
      "execution_count": null,
      "outputs": []
    },
    {
      "cell_type": "code",
      "metadata": {
        "colab": {
          "base_uri": "https://localhost:8080/"
        },
        "id": "wghUEqI4mYvH",
        "outputId": "8bb32593-5c81-42d8-fd68-4ce6d58e744a"
      },
      "source": [
        "prediction.shape"
      ],
      "execution_count": null,
      "outputs": [
        {
          "output_type": "execute_result",
          "data": {
            "text/plain": [
              "(1340, 1)"
            ]
          },
          "metadata": {
            "tags": []
          },
          "execution_count": 17
        }
      ]
    },
    {
      "cell_type": "code",
      "metadata": {
        "id": "khQ-L20kn2if"
      },
      "source": [
        "#calculating r2 score and rmse score\n",
        "\n"
      ],
      "execution_count": null,
      "outputs": []
    },
    {
      "cell_type": "code",
      "metadata": {
        "id": "TgsPlrixn2W8"
      },
      "source": [
        "# rf_model.fit(X_matrix, Y)\n",
        "# results=clf.predict(X_test_matrix)"
      ],
      "execution_count": null,
      "outputs": []
    },
    {
      "cell_type": "code",
      "metadata": {
        "id": "IVIXt6wx4h73"
      },
      "source": [
        ""
      ],
      "execution_count": null,
      "outputs": []
    },
    {
      "cell_type": "markdown",
      "metadata": {
        "id": "eNtbjYsQ4i1s"
      },
      "source": [
        "For submission"
      ]
    },
    {
      "cell_type": "code",
      "metadata": {
        "id": "Jyq61XfuoA4K"
      },
      "source": [
        "\n",
        "X_test_matrix_modify = np.asarray(X_test_matrix).astype('float32')\n",
        "\n",
        "X_test_matrix_reshape = X_test_matrix_modify.reshape(-1, 1, 19)"
      ],
      "execution_count": null,
      "outputs": []
    },
    {
      "cell_type": "code",
      "metadata": {
        "id": "nBHLAOI9oA1M"
      },
      "source": [
        ""
      ],
      "execution_count": null,
      "outputs": []
    },
    {
      "cell_type": "code",
      "metadata": {
        "id": "B0_9KJp9mqOL"
      },
      "source": [
        "prediction_1 = model.predict(X_test_matrix_reshape)"
      ],
      "execution_count": null,
      "outputs": []
    },
    {
      "cell_type": "code",
      "metadata": {
        "colab": {
          "base_uri": "https://localhost:8080/"
        },
        "id": "TFYYWA9HpMqD",
        "outputId": "c32e6cd8-fba3-4e58-f1e5-1fd3f1e87680"
      },
      "source": [
        "prediction_1.shape"
      ],
      "execution_count": null,
      "outputs": [
        {
          "output_type": "execute_result",
          "data": {
            "text/plain": [
              "(3294, 1)"
            ]
          },
          "metadata": {
            "tags": []
          },
          "execution_count": 20
        }
      ]
    },
    {
      "cell_type": "code",
      "metadata": {
        "id": "uwKdbyx7jWxd"
      },
      "source": [
        "from sklearn.preprocessing import MinMaxScaler as ms"
      ],
      "execution_count": null,
      "outputs": []
    },
    {
      "cell_type": "code",
      "metadata": {
        "id": "kXswWmkrtr6G"
      },
      "source": [
        "results=prediction_1\n",
        "results1=ms.inverse_transform(results)"
      ],
      "execution_count": null,
      "outputs": []
    },
    {
      "cell_type": "code",
      "metadata": {
        "id": "ZY6YSxtOj1F_"
      },
      "source": [
        "final = prediction_1[:,0].reshape(-1)"
      ],
      "execution_count": null,
      "outputs": []
    },
    {
      "cell_type": "markdown",
      "metadata": {
        "id": "M0zsN1TbKH6_"
      },
      "source": [
        "\n",
        "\n",
        "---\n",
        "final csv file\n"
      ]
    },
    {
      "cell_type": "code",
      "metadata": {
        "id": "9tQGc4gLpW-i"
      },
      "source": [
        "submission=pd.DataFrame({\"id\":csv_file_ids, \"profit\":final})"
      ],
      "execution_count": null,
      "outputs": []
    },
    {
      "cell_type": "code",
      "metadata": {
        "colab": {
          "base_uri": "https://localhost:8080/",
          "height": 34
        },
        "id": "R65v8p38oGVv",
        "outputId": "2bdf7ab1-a1b1-457c-b6a4-d0793a95d9c8"
      },
      "source": [
        "from google.colab import files\n",
        "submission.to_csv('attempt3.csv', index=False) \n",
        "files.download('attempt3.csv')\n",
        "print(\"download complete\")"
      ],
      "execution_count": null,
      "outputs": [
        {
          "output_type": "display_data",
          "data": {
            "application/javascript": [
              "\n",
              "    async function download(id, filename, size) {\n",
              "      if (!google.colab.kernel.accessAllowed) {\n",
              "        return;\n",
              "      }\n",
              "      const div = document.createElement('div');\n",
              "      const label = document.createElement('label');\n",
              "      label.textContent = `Downloading \"${filename}\": `;\n",
              "      div.appendChild(label);\n",
              "      const progress = document.createElement('progress');\n",
              "      progress.max = size;\n",
              "      div.appendChild(progress);\n",
              "      document.body.appendChild(div);\n",
              "\n",
              "      const buffers = [];\n",
              "      let downloaded = 0;\n",
              "\n",
              "      const channel = await google.colab.kernel.comms.open(id);\n",
              "      // Send a message to notify the kernel that we're ready.\n",
              "      channel.send({})\n",
              "\n",
              "      for await (const message of channel.messages) {\n",
              "        // Send a message to notify the kernel that we're ready.\n",
              "        channel.send({})\n",
              "        if (message.buffers) {\n",
              "          for (const buffer of message.buffers) {\n",
              "            buffers.push(buffer);\n",
              "            downloaded += buffer.byteLength;\n",
              "            progress.value = downloaded;\n",
              "          }\n",
              "        }\n",
              "      }\n",
              "      const blob = new Blob(buffers, {type: 'application/binary'});\n",
              "      const a = document.createElement('a');\n",
              "      a.href = window.URL.createObjectURL(blob);\n",
              "      a.download = filename;\n",
              "      div.appendChild(a);\n",
              "      a.click();\n",
              "      div.remove();\n",
              "    }\n",
              "  "
            ],
            "text/plain": [
              "<IPython.core.display.Javascript object>"
            ]
          },
          "metadata": {
            "tags": []
          }
        },
        {
          "output_type": "display_data",
          "data": {
            "application/javascript": [
              "download(\"download_3b5fa914-e9e1-4321-b154-466dc785b4e2\", \"attempt3.csv\", 79451)"
            ],
            "text/plain": [
              "<IPython.core.display.Javascript object>"
            ]
          },
          "metadata": {
            "tags": []
          }
        },
        {
          "output_type": "stream",
          "text": [
            "download complete\n"
          ],
          "name": "stdout"
        }
      ]
    },
    {
      "cell_type": "code",
      "metadata": {
        "id": "v-HtxqHrrOnj"
      },
      "source": [
        ""
      ],
      "execution_count": null,
      "outputs": []
    }
  ]
}